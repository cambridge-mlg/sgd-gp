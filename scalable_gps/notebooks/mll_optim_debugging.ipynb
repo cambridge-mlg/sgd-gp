{
 "cells": [
  {
   "cell_type": "code",
   "execution_count": 6,
   "metadata": {},
   "outputs": [
    {
     "name": "stdout",
     "output_type": "stream",
     "text": [
      "The autoreload extension is already loaded. To reload it, use:\n",
      "  %reload_ext autoreload\n",
      "pol dataset, N=15000, d=26\n"
     ]
    }
   ],
   "source": [
    "%load_ext autoreload\n",
    "%autoreload 2\n",
    "import jax\n",
    "import data\n",
    "\n",
    "data_train, data_test = data.get_dataset('pol', split=0, normalise=True)"
   ]
  },
  {
   "cell_type": "code",
   "execution_count": 11,
   "metadata": {},
   "outputs": [
    {
     "name": "stdout",
     "output_type": "stream",
     "text": [
      "Dataset(x=Array([[-0.1362851 ,  3.5827398 ,  2.398991  , ..., -0.16326788,\n",
      "        -0.15927574, -0.11172578],\n",
      "       [-1.4676561 ,  2.7653298 ,  1.9710352 , ..., -0.16326788,\n",
      "        -0.15927574, -0.11172578],\n",
      "       [-1.5526376 ,  2.717247  ,  2.0933084 , ..., -0.16326788,\n",
      "        -0.15927574, -0.11172578],\n",
      "       ...,\n",
      "       [ 0.7135354 , -0.8408898 , -0.4744019 , ..., -0.16326788,\n",
      "        -0.15927574, -0.11172578],\n",
      "       [-0.07963078, -0.6966411 , -0.10758264, ..., -0.16326788,\n",
      "        -0.15927574, -0.11172578],\n",
      "       [ 0.68520826, -0.8408898 , -0.3521288 , ..., -0.16326788,\n",
      "        -0.15927574, -0.11172578]], dtype=float32), y=Array([-0.6943049, -0.6943049, -0.6943049, ..., -0.6943049,  1.4612063,\n",
      "       -0.6943049], dtype=float32), N=10000, D=26, mu_x=Array([[-6.8089753e-02, -2.8676432e-02, -7.8891059e-03,  4.5265749e-02,\n",
      "        -6.5290709e-03, -1.2444458e-03,  5.8427155e-02, -2.4479710e-02,\n",
      "        -1.0477452e-01, -8.7386444e-02,  8.2423240e-02,  4.9291845e-02,\n",
      "        -1.5878725e-03, -1.5328821e-02, -5.4901894e-02, -4.0572591e-02,\n",
      "         7.6009948e-03,  2.1339631e-02,  1.6667277e-03,  2.0303231e-04,\n",
      "        -9.8381890e-05,  2.4989897e-02,  4.9923793e-03,  4.0696254e-03,\n",
      "        -7.0529692e-03, -1.4162846e-03]], dtype=float32), sigma_x=Array([[35.301807 , 20.797401 , 16.356829 , 13.455642 ,  8.53861  ,\n",
      "        14.241905 , 19.853054 , 19.52974  , 19.515953 , 19.325554 ,\n",
      "        19.711088 , 16.726336 , 11.43896  , 11.079313 , 11.406499 ,\n",
      "         9.720461 ,  6.7427435,  6.41701  ,  5.4821177,  5.34938  ,\n",
      "         5.679063 ,  4.848097 ,  3.1199393,  3.2461965,  3.127137 ,\n",
      "         2.20051  ]], dtype=float32), mu_y=Array([0.04461681], dtype=float32), sigma_y=Array([41.753437], dtype=float32))\n"
     ]
    }
   ],
   "source": [
    "from data import subsample\n",
    "key = jax.random.PRNGKey(123)\n",
    "ds_subsample = subsample(key, data_train)\n",
    "print(ds_subsample)\n"
   ]
  }
 ],
 "metadata": {
  "kernelspec": {
   "display_name": "jax",
   "language": "python",
   "name": "python3"
  },
  "language_info": {
   "codemirror_mode": {
    "name": "ipython",
    "version": 3
   },
   "file_extension": ".py",
   "mimetype": "text/x-python",
   "name": "python",
   "nbconvert_exporter": "python",
   "pygments_lexer": "ipython3",
   "version": "3.8.16"
  },
  "orig_nbformat": 4
 },
 "nbformat": 4,
 "nbformat_minor": 2
}
