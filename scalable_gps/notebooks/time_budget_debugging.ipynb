{
 "cells": [
  {
   "cell_type": "code",
   "execution_count": 2,
   "metadata": {},
   "outputs": [
    {
     "name": "stdout",
     "output_type": "stream",
     "text": [
      "pol dataset, N=15000, d=26\n"
     ]
    }
   ],
   "source": [
    "%load_ext autoreload\n",
    "%autoreload 2\n",
    "\n",
    "import jax\n",
    "import jax.numpy as jnp\n",
    "import data\n",
    "from kernels import Matern32Kernel\n",
    "\n",
    "data_train, data_test = data.get_dataset('pol', split=0, normalise=True)\n",
    "\n",
    "kernel_config = {\n",
    "    'signal_scale': 1.0,\n",
    "    'length_scale': jnp.array([1])\n",
    "}\n",
    "noise_scale = 1.0\n",
    "\n",
    "kernel = Matern32Kernel(kernel_config=kernel_config)"
   ]
  },
  {
   "cell_type": "code",
   "execution_count": 4,
   "metadata": {},
   "outputs": [
    {
     "name": "stderr",
     "output_type": "stream",
     "text": [
      "Time: 100%|█████████▉| 59.94838833808899/60 [01:00<00:00,  1.03s/s] /home/jal232_cam_ac_uk/miniconda3/envs/jax/lib/python3.10/site-packages/tqdm/std.py:524: TqdmWarning: clamping frac to range [0, 1]\n",
      "  full_bar = Bar(frac,\n",
      "Time: 100%|██████████| 60.00027799606323/60 [01:00<00:00,  1.01s/s]"
     ]
    },
    {
     "name": "stdout",
     "output_type": "stream",
     "text": [
      "iter_counter: 27652, eval_counter: 4\n"
     ]
    },
    {
     "name": "stderr",
     "output_type": "stream",
     "text": [
      "\n"
     ]
    }
   ],
   "source": [
    "from models import SGDGPModel\n",
    "import ml_collections\n",
    "\n",
    "config = ml_collections.ConfigDict()\n",
    "config.train_config = ml_collections.ConfigDict()\n",
    "\n",
    "config.train_config.learning_rate = 1e-4\n",
    "config.train_config.lr_schedule_name = None\n",
    "config.train_config.lr_schedule_config = None\n",
    "config.train_config.momentum = 0.9\n",
    "config.train_config.polyak = 1e-1\n",
    "config.train_config.iterations = int(1e3)\n",
    "config.train_config.batch_size = 20\n",
    "config.train_config.eval_every = 100\n",
    "config.train_config.n_features_optim = 100\n",
    "config.train_config.recompute_features = True\n",
    "config.train_config.iterative_idx = True\n",
    "config.train_config.time_budget_in_seconds = 60\n",
    "config.train_config.eval_every_in_seconds = 20\n",
    "\n",
    "sgd_gp = SGDGPModel(noise_scale=noise_scale, kernel=kernel)\n",
    "\n",
    "optim_key = jax.random.PRNGKey(0)\n",
    "\n",
    "metrics_list = [\"loss\"]\n",
    "\n",
    "alpha_polyak, info = sgd_gp.compute_representer_weights(\n",
    "    key=optim_key,\n",
    "    train_ds=data_train, \n",
    "    test_ds=data_test,\n",
    "    config=config.train_config,\n",
    "    metrics_list=metrics_list,\n",
    "    exact_metrics=None\n",
    ")"
   ]
  },
  {
   "cell_type": "code",
   "execution_count": null,
   "metadata": {},
   "outputs": [],
   "source": []
  }
 ],
 "metadata": {
  "kernelspec": {
   "display_name": "jax",
   "language": "python",
   "name": "python3"
  },
  "language_info": {
   "codemirror_mode": {
    "name": "ipython",
    "version": 3
   },
   "file_extension": ".py",
   "mimetype": "text/x-python",
   "name": "python",
   "nbconvert_exporter": "python",
   "pygments_lexer": "ipython3",
   "version": "3.10.9"
  },
  "orig_nbformat": 4
 },
 "nbformat": 4,
 "nbformat_minor": 2
}
