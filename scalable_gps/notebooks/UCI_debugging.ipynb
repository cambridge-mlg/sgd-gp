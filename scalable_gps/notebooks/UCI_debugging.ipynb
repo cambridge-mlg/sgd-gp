{
 "cells": [
  {
   "cell_type": "code",
   "execution_count": 1,
   "metadata": {},
   "outputs": [
    {
     "name": "stderr",
     "output_type": "stream",
     "text": [
      "/homes/jal232/miniconda3/envs/jax/lib/python3.8/site-packages/jax/_src/api_util.py:183: SyntaxWarning: Jitted function has static_argnums=(3, 4), but only accepts 4 positional arguments. This warning will be replaced by an error after 2022-08-20 at the earliest.\n",
      "  warnings.warn(f\"Jitted function has {argnums_name}={argnums}, \"\n"
     ]
    },
    {
     "name": "stdout",
     "output_type": "stream",
     "text": [
      "pol dataset, N=15000, d=26\n"
     ]
    }
   ],
   "source": [
    "%load_ext autoreload\n",
    "%autoreload 2\n",
    "import jax\n",
    "import jax.numpy as jnp\n",
    "import matplotlib.pyplot as plt\n",
    "from scalable_gps import data\n",
    "from scalable_gps.kernels import Matern32Kernel\n",
    "from scalable_gps.models import ExactGPModel, SGDGPModel\n",
    "from scalable_gps.utils import revert_z_score\n",
    "from scalable_gps.eval_utils import RMSE\n",
    "\n",
    "data_train, data_test = data.get_dataset('pol', split=0, normalise=True)"
   ]
  },
  {
   "cell_type": "code",
   "execution_count": 2,
   "metadata": {},
   "outputs": [],
   "source": [
    "def softminus(x):\n",
    "    return math.log(math.exp(x) - 1)\n",
    "\n",
    "import math\n",
    "signal_scale = math.sqrt(0.07279852032661438)\n",
    "length_scale = 1.88330865\n",
    "length_scale_ard = jnp.array([0.40078604, 0.47861066, 0.99160534, 1.8033762,  1.3364722,  3.6816106,\n",
    "   3.6552188,  6.462375,   6.962077,   4.8550777,  2.6934228,  2.2448704,\n",
    "   5.32376,    5.58768,    6.0296025,  3.2405155,  6.1585517,  6.8495193,\n",
    "   5.000094,   5.8355484,  5.228479,   6.537194,   6.9643164,  5.146025,\n",
    "   5.5808063,  5.1676707])\n",
    "noise_scale = math.sqrt(0.0007456933963112533)\n",
    "\n",
    "signal_scale_init = math.sqrt(math.log(2.))\n",
    "length_scale_init = jnp.arange(1., 27.)\n",
    "noise_scale_init = math.sqrt(math.log(2.))\n",
    "\n",
    "kernel_config = {\n",
    "    'signal_scale': signal_scale,\n",
    "    'length_scale': length_scale\n",
    "}\n",
    "\n",
    "kernel_config_ard = {\n",
    "    'signal_scale': signal_scale,\n",
    "    'length_scale': length_scale_ard\n",
    "}\n",
    "\n",
    "kernel_config_init = {\n",
    "    'signal_scale': signal_scale_init,\n",
    "    'length_scale': length_scale_init\n",
    "}\n",
    "\n",
    "kernel = Matern32Kernel(kernel_config=kernel_config)"
   ]
  },
  {
   "cell_type": "code",
   "execution_count": 3,
   "metadata": {},
   "outputs": [],
   "source": [
    "exact_gp = ExactGPModel(noise_scale=noise_scale, kernel=kernel)\n",
    "\n",
    "exact_gp.compute_representer_weights(data_train)\n",
    "exact_pred_mean = exact_gp.predictive_mean(data_train, data_test)\n",
    "exact_pred_var = exact_gp.predictive_variance(data_train, data_test) + noise_scale ** 2\n",
    "exact_pred_std = jnp.sqrt(exact_pred_var)\n"
   ]
  },
  {
   "cell_type": "code",
   "execution_count": 4,
   "metadata": {},
   "outputs": [
    {
     "name": "stdout",
     "output_type": "stream",
     "text": [
      "(1500,) (1500,) (1500,)\n",
      "0.15296917\n",
      "0.26724586\n"
     ]
    }
   ],
   "source": [
    "print(data_test.y.shape, exact_pred_mean.shape, exact_pred_std.shape)\n",
    "# loc = revert_z_score(exact_pred_mean, mu=data_train.mu_y, sigma=data_train.sigma_y)\n",
    "# scale = revert_z_score(exact_pred_std, mu=0., sigma=data_train.sigma_y)\n",
    "# y = revert_z_score(data_test.y, mu=data_train.mu_y, sigma=data_train.sigma_y)\n",
    "loc = exact_pred_mean\n",
    "scale = exact_pred_std\n",
    "y = data_test.y\n",
    "\n",
    "test_rmse = RMSE(y, loc)\n",
    "print(test_rmse)\n",
    "test_llh = jax.scipy.stats.norm.logpdf(y, loc, scale).mean()\n",
    "print(test_llh)"
   ]
  },
  {
   "cell_type": "code",
   "execution_count": 20,
   "metadata": {},
   "outputs": [
    {
     "name": "stderr",
     "output_type": "stream",
     "text": [
      "100%|██████████| 200000/200000 [20:56<00:00, 159.14it/s]\n"
     ]
    }
   ],
   "source": [
    "import ml_collections\n",
    "config = ml_collections.ConfigDict()\n",
    "config.train_config = ml_collections.ConfigDict()\n",
    "\n",
    "config.train_config.learning_rate = 1e-1\n",
    "config.train_config.momentum = 0.9\n",
    "config.train_config.polyak = 1e-3\n",
    "config.train_config.iterations = int(2e5)\n",
    "config.train_config.batch_size = 1000\n",
    "config.train_config.eval_every = 100\n",
    "config.train_config.n_features_optim = 100\n",
    "config.train_config.recompute_features = True\n",
    "\n",
    "optim_key = jax.random.PRNGKey(123)\n",
    "\n",
    "sgd_gp = SGDGPModel(noise_scale=noise_scale, kernel=kernel)\n",
    "alpha, info = sgd_gp.compute_representer_weights(\n",
    "    key=optim_key,\n",
    "    train_ds=data_train,\n",
    "    test_ds=data_test,\n",
    "    config=config.train_config,\n",
    "    metrics_list=['loss'],\n",
    "    exact_metrics=None\n",
    ")\n",
    "\n",
    "sgd_pred_mean = sgd_gp.predictive_mean(data_train, data_test)"
   ]
  },
  {
   "cell_type": "code",
   "execution_count": 21,
   "metadata": {},
   "outputs": [
    {
     "data": {
      "text/plain": [
       "[<matplotlib.lines.Line2D at 0x7f47f031afa0>]"
      ]
     },
     "execution_count": 21,
     "metadata": {},
     "output_type": "execute_result"
    },
    {
     "data": {
      "image/png": "[encoded data removed]",
      "text/plain": [
       "<Figure size 640x480 with 1 Axes>"
      ]
     },
     "metadata": {},
     "output_type": "display_data"
    }
   ],
   "source": [
    "info_dict = {k: [dic[k].item() for dic in info] for k in info[0]}\n",
    "loss = info_dict['/loss']\n",
    "plt.plot(loss)"
   ]
  },
  {
   "cell_type": "code",
   "execution_count": 11,
   "metadata": {},
   "outputs": [],
   "source": [
    "sgd_pred_std = jnp.array(0.)"
   ]
  },
  {
   "cell_type": "code",
   "execution_count": 22,
   "metadata": {},
   "outputs": [
    {
     "name": "stdout",
     "output_type": "stream",
     "text": [
      "(1500,) (1500,) ()\n",
      "0.24783106\n"
     ]
    }
   ],
   "source": [
    "print(data_test.y.shape, sgd_pred_mean.shape, sgd_pred_std.shape)\n",
    "# loc = revert_z_score(sgd_pred_mean, mu=data_train.mu_y, sigma=data_train.sigma_y)\n",
    "# scale = revert_z_score(sgd_pred_std, mu=0., sigma=data_train.sigma_y)\n",
    "# y = revert_z_score(data_test.y, mu=data_train.mu_y, sigma=data_train.sigma_y)\n",
    "loc = sgd_pred_mean\n",
    "scale = sgd_pred_std\n",
    "y = data_test.y\n",
    "\n",
    "test_rmse = RMSE(y, loc)\n",
    "print(test_rmse)\n",
    "# test_llh = jax.scipy.stats.norm.logpdf(y, loc, scale).mean()\n",
    "# print(test_llh)"
   ]
  }
 ],
 "metadata": {
  "kernelspec": {
   "display_name": "jax",
   "language": "python",
   "name": "python3"
  },
  "language_info": {
   "codemirror_mode": {
    "name": "ipython",
    "version": 3
   },
   "file_extension": ".py",
   "mimetype": "text/x-python",
   "name": "python",
   "nbconvert_exporter": "python",
   "pygments_lexer": "ipython3",
   "version": "3.8.16"
  },
  "orig_nbformat": 4
 },
 "nbformat": 4,
 "nbformat_minor": 2
}
