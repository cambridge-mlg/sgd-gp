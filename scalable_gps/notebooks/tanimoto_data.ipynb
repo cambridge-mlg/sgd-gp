{
 "cells": [
  {
   "cell_type": "code",
   "execution_count": 1,
   "metadata": {},
   "outputs": [],
   "source": [
    "%load_ext autoreload\n",
    "%autoreload 2\n",
    "\n",
    "import matplotlib\n",
    "# matplotlib.use('pgf')\n",
    "\n",
    "import matplotlib.pyplot as plt\n",
    "from matplotlib.lines import Line2D\n",
    "from matplotlib.gridspec import GridSpec\n",
    "import numpy as np\n",
    "\n",
    "%matplotlib inline\n",
    "\n",
    "\n",
    "c = ['#1f77b4', '#ff7f0e', '#2ca02c', '#d62728', '#9467bd',\n",
    "     '#8c564b', '#e377c2', '#7f7f7f', '#bcbd22', '#17becf']\n",
    "\n",
    "markerlist = ['o', 4, 5, 6, 7, 'p', 'd', 'P']\n",
    "\n",
    "\n",
    "text_width = 5.5  # in  --> Confirmed with template explanation\n",
    "text_height = 9.0\n",
    "\n",
    "fs_m1 = 7  # for figure ticks\n",
    "fs = 9  # for regular figure text\n",
    "fs_p1 = 10  # figure titles\n",
    "\n",
    "axes_lw = 0.7\n",
    "\n",
    "matplotlib.rc('font', size=fs)          # controls default text sizes\n",
    "matplotlib.rc('axes', titlesize=fs)     # fontsize of the axes title\n",
    "matplotlib.rc('axes', labelsize=fs)    # fontsize of the x and y labels\n",
    "matplotlib.rc('axes', linewidth=axes_lw)    # fontsize of the x and y labels\n",
    "matplotlib.rc('xtick', labelsize=fs_m1)    # fontsize of the tick labels\n",
    "matplotlib.rc('ytick', labelsize=fs_m1)    # fontsize of the tick labels\n",
    "matplotlib.rc('legend', fontsize=fs_m1)    # legend fontsize\n",
    "matplotlib.rc('figure', titlesize=fs_p1)  # fontsize of the figure title\n",
    "\n",
    "\n",
    "matplotlib.rc('font', **{'family': 'serif', 'serif': ['Times New Roman']})\n",
    "\n",
    "# matplotlib.rc('text', usetex=True)\n",
    "\n",
    "plt.rcParams.update({'text.latex.preamble': r'\\usepackage{amsmath}'})\n",
    "\n",
    "\n",
    "def errorfill(ax, x, y, yerr, color=None, alpha_fill=0.3, alpha_line=1, lw=1, linestyle='-', fill_linewidths=0.2, dashes=None, marker=None, markersize=1, label=None):\n",
    "    ax.fill_between(x, y - yerr, y + yerr, color=color, alpha=alpha_fill, linewidths=fill_linewidths)\n",
    "    if linestyle == '--':\n",
    "        ax.plot(x, y, color=color, lw=lw, linestyle=linestyle, alpha=alpha_line, label=label, marker=marker, markersize=markersize, dashes=dashes)\n",
    "    else:\n",
    "        ax.plot(x, y, color=color, lw=lw, linestyle=linestyle, alpha=alpha_line, label=label, marker=marker, markersize=markersize)\n",
    "\n",
    "def remove_xticks(ax):\n",
    "    for tick in ax.xaxis.get_major_ticks():\n",
    "        tick.tick1line.set_visible(False)\n",
    "        tick.tick2line.set_visible(False)\n",
    "    ax.xaxis.set_tick_params(which='minor', bottom=False, top=False)\n",
    "    ax.xaxis.set_tick_params(which='major', bottom=False, top=False)\n",
    "    ax.set_xticklabels([])\n",
    "        \n",
    "def remove_yticks(ax):\n",
    "    for tick in ax.yaxis.get_major_ticks():\n",
    "        tick.tick1line.set_visible(False)\n",
    "        tick.tick2line.set_visible(False)\n",
    "    ax.yaxis.set_tick_params(which='minor', left=False)\n",
    "    ax.set_yticklabels([])\n"
   ]
  },
  {
   "cell_type": "code",
   "execution_count": 2,
   "metadata": {},
   "outputs": [
    {
     "name": "stdout",
     "output_type": "stream",
     "text": [
      "Starting to load datasets...\n",
      "/home/sp2058/scalable-gaussian-processes/scalable_gps/datafiles\n",
      "Finished loading datasets.\n",
      "(10000, 5)\n"
     ]
    }
   ],
   "source": [
    "from scalable_gps.data import get_protein_dataset, get_dataset\n",
    "\n",
    "data_dir = \"/home/sp2058/scalable-gaussian-processes/scalable_gps/datafiles\"\n",
    "\n",
    "train_ds, test_ds = get_protein_dataset(\"ESR2\", dataset_dir=data_dir, input_dim=5, n_train=10000)\n",
    "print(train_ds.x.shape)\n",
    "\n"
   ]
  },
  {
   "cell_type": "code",
   "execution_count": 4,
   "metadata": {},
   "outputs": [
    {
     "name": "stdout",
     "output_type": "stream",
     "text": [
      "(10000, 10000)\n",
      "100 5\n",
      "() (5,)\n",
      "(10000, 100)\n",
      "(10000, 10000)\n"
     ]
    },
    {
     "name": "stderr",
     "output_type": "stream",
     "text": [
      "/home/sp2058/.conda/envs/pnum3/lib/python3.10/site-packages/jax/_src/numpy/array_methods.py:728: UserWarning: Explicitly requested dtype <class 'numpy.integer'> requested in astype is not available, and will be truncated to dtype int32. To enable more dtypes, set the jax_enable_x64 configuration option or the JAX_ENABLE_X64 shell environment variable. See https://github.com/google/jax#current-gotchas for more.\n",
      "  return getattr(self.aval, name).fun(self, *args, **kwargs)\n"
     ]
    },
    {
     "data": {
      "image/png": "[encoded data removed]",
      "text/plain": [
       "<Figure size 640x480 with 1 Axes>"
      ]
     },
     "metadata": {},
     "output_type": "display_data"
    },
    {
     "ename": "SyntaxError",
     "evalue": "'break' outside loop (4119491131.py, line 35)",
     "output_type": "error",
     "traceback": [
      "\u001b[0;36m  Cell \u001b[0;32mIn[4], line 35\u001b[0;36m\u001b[0m\n\u001b[0;31m    break\u001b[0m\n\u001b[0m    ^\u001b[0m\n\u001b[0;31mSyntaxError\u001b[0m\u001b[0;31m:\u001b[0m 'break' outside loop\n"
     ]
    }
   ],
   "source": [
    "from scalable_gps.kernels import TanimotoKernel, RBFKernel\n",
    "from scalable_gps.models.exact_gp_model import ExactGPModel\n",
    "from scalable_gps.eval_utils import RMSE\n",
    "\n",
    "from scalable_gps.utils import ExactPredictionsTuple\n",
    "\n",
    "from scalable_gps.configs.default import get_config\n",
    "import jax.random as jr\n",
    "import matplotlib.pyplot as plt\n",
    "\n",
    "\n",
    "kernel = TanimotoKernel(kernel_config={'signal_scale': 1.})\n",
    "\n",
    "K = kernel.kernel_fn(train_ds.x, train_ds.x)\n",
    "\n",
    "print(K.shape)\n",
    "\n",
    "features = kernel.feature_fn(jr.PRNGKey(0), n_features=100, n_input_dims=train_ds.D, x=train_ds.x,\n",
    "                             modulo_value=8)\n",
    "\n",
    "print(features.shape)\n",
    "\n",
    "K_approx = features @ features.T\n",
    "\n",
    "print(K_approx.shape)\n",
    "\n",
    "K = np.array(K)\n",
    "K_approx = np.array(K_approx)\n",
    "\n",
    "plt.hist(K.ravel(), bins=100, alpha=0.5, label='Exact')\n",
    "plt.hist(K_approx.ravel(), bins=100, alpha=0.5, label='Approx')\n",
    "plt.legend()\n",
    "plt.show()\n",
    "\n",
    "break\n",
    "noise_scale = 0.01\n",
    "\n",
    "config = get_config('pol')\n",
    "\n",
    "exact_model = ExactGPModel(noise_scale, kernel)\n",
    "\n",
    "exact_model.compute_representer_weights(train_ds)\n",
    "\n",
    "print(exact_model.alpha.shape)\n",
    "y_pred_exact = exact_model.predictive_mean(train_ds, test_ds)\n",
    "\n",
    "test_rmse_exact = RMSE(\n",
    "    test_ds.y, y_pred_exact, mu=train_ds.mu_y, sigma=train_ds.sigma_y\n",
    ")\n",
    "\n",
    "print(\"Test RMSE: {}\".format(test_rmse_exact))\n",
    "\n",
    "exact_metrics = ExactPredictionsTuple(\n",
    "                alpha=exact_model.alpha, y_pred_loc=y_pred_exact\n",
    "            )"
   ]
  },
  {
   "cell_type": "code",
   "execution_count": null,
   "metadata": {},
   "outputs": [],
   "source": [
    "from scalable_gps.models.sgd_gp_model import SGDGPModel\n",
    "import jax.random as jr\n",
    "\n",
    "\n",
    "model = SGDGPModel(noise_scale, kernel)\n",
    "train_config = config.train_config\n",
    "config.compute_exact_soln = True\n",
    "train_config.grad_variant = 'batch_kvp'\n",
    "\n",
    "metrics_list = [\"normalised_test_rmse\"]\n",
    "if config.compute_exact_soln:\n",
    "    metrics_list.extend([\"alpha_diff\", \"alpha_rkhs_diff\", \"y_pred_diff\"])\n",
    "\n",
    "optim_key = jr.PRNGKey(0)\n",
    "\n",
    "alpha, aux = model.compute_representer_weights(\n",
    "    optim_key,\n",
    "    train_ds,\n",
    "    test_ds,\n",
    "    train_config,\n",
    "    metrics_list=metrics_list,\n",
    "    metrics_prefix=\"train\",\n",
    "    exact_metrics=exact_metrics if config.compute_exact_soln else None,\n",
    "    artifact_name=None,\n",
    ")"
   ]
  },
  {
   "cell_type": "code",
   "execution_count": null,
   "metadata": {},
   "outputs": [],
   "source": [
    "y_pred = model.predictive_mean(train_ds, test_ds)\n",
    "test_rmse = RMSE(test_ds.y, y_pred, mu=train_ds.mu_y, sigma=train_ds.sigma_y)\n",
    "normalised_test_rmse = RMSE(test_ds.y, y_pred)\n",
    "\n",
    "print(\"test_rmse = \", test_rmse)\n",
    "print(\"normalised_test_rmse = \", normalised_test_rmse)"
   ]
  },
  {
   "cell_type": "code",
   "execution_count": null,
   "metadata": {},
   "outputs": [],
   "source": [
    "print(aux)"
   ]
  },
  {
   "cell_type": "code",
   "execution_count": null,
   "metadata": {},
   "outputs": [],
   "source": []
  }
 ],
 "metadata": {
  "kernelspec": {
   "display_name": "jax",
   "language": "python",
   "name": "python3"
  },
  "language_info": {
   "codemirror_mode": {
    "name": "ipython",
    "version": 3
   },
   "file_extension": ".py",
   "mimetype": "text/x-python",
   "name": "python",
   "nbconvert_exporter": "python",
   "pygments_lexer": "ipython3",
   "version": "3.10.9"
  },
  "orig_nbformat": 4
 },
 "nbformat": 4,
 "nbformat_minor": 2
}
