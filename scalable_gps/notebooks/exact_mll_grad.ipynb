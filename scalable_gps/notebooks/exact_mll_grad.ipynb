{
 "cells": [
  {
   "cell_type": "code",
   "execution_count": 1,
   "metadata": {},
   "outputs": [],
   "source": [
    "%load_ext autoreload\n",
    "%autoreload 2\n",
    "\n",
    "import jax\n",
    "import jax.numpy as jnp\n",
    "import jax.random as jr\n",
    "import jax.scipy as jsp\n",
    "\n",
    "from scalable_gps import data\n",
    "from scalable_gps.kernels import Matern32Kernel, StationaryKernelHparams\n",
    "from scalable_gps.optim_utils import get_mll_grad_fn, get_mll_update_fn\n",
    "from tqdm import tqdm\n",
    "\n",
    "import matplotlib.pyplot as plt\n",
    "import numpy as np\n",
    "\n",
    "from scalable_gps.utils import ModelHparamsTuple\n",
    "from scalable_gps.linear_model import mll_grad_exact, mll_grad_samples"
   ]
  },
  {
   "cell_type": "code",
   "execution_count": 2,
   "metadata": {},
   "outputs": [
    {
     "name": "stdout",
     "output_type": "stream",
     "text": [
      "pol dataset, N=15000, d=26\n"
     ]
    }
   ],
   "source": [
    "\n",
    "\n",
    "\n",
    "data_train, data_test = data.get_dataset('pol', normalise=True)\n",
    "\n",
    "noise_scale = 0.03674088791012764\n",
    "signal_scale = 0.40082889795303345\n",
    "length_scale = jnp.array([\n",
    "    0.52524596,  0.6186301 ,  1.5090247 , 10.132918  ,  1.7406912 ,\n",
    "    5.054395  ,  5.226383  ,  9.337141  , 10.217203  ,  6.5755534 ,\n",
    "    3.6486707 ,  3.0318773 ,  5.2058926 ,  8.490589  ,  7.535358  ,\n",
    "    3.3828075 ,  7.956833  ,  9.567045  ,  9.314897  ,  9.894369  ,\n",
    "    9.533345  , 10.515911  , 10.594195  ,  5.8728833 ,  7.5082574 ,\n",
    "    4.9715824])\n",
    "\n",
    "N = 13500\n",
    "train_x, train_y = data_train.x[:N], data_train.y[:N]\n",
    "test_x, test_y = data_test.x[:N], data_test.y[:N]\n",
    "kernel = Matern32Kernel()\n",
    "\n",
    "kernel_hparams = StationaryKernelHparams(\n",
    "    signal_scale=signal_scale,\n",
    "    length_scale=length_scale)\n",
    "\n",
    "hparams_exact = ModelHparamsTuple(\n",
    "    noise_scale=noise_scale,\n",
    "    kernel_hparams=kernel_hparams)\n",
    "\n",
    "# Set up Hyperparameter Optimisation with Exact grad and Samples grad\n",
    "\n",
    "\n",
    "\n"
   ]
  },
  {
   "cell_type": "code",
   "execution_count": 3,
   "metadata": {},
   "outputs": [
    {
     "name": "stderr",
     "output_type": "stream",
     "text": [
      "100%|██████████| 100/100 [01:51<00:00,  1.11s/it]\n"
     ]
    }
   ],
   "source": [
    "import optax\n",
    "from scalable_gps.linear_model import mll_exact\n",
    "\n",
    "mll_grad_fn = get_mll_grad_fn(\n",
    "    train_x, train_y, kernel.kernel_fn, kernel.kernel_grad_fn, \"exact\")\n",
    "\n",
    "optimiser = optax.adam(0.1)\n",
    "\n",
    "exact_hparams_all = []\n",
    "mll_update_fn = get_mll_update_fn(mll_grad_fn, optimiser, 1e-3)\n",
    "\n",
    "u_hparams = jax.tree_map(jnp.zeros_like, hparams_exact)\n",
    "u_hparams_polyak = jax.tree_map(jnp.zeros_like, hparams_exact)\n",
    "\n",
    "opt_state = optimiser.init(u_hparams)\n",
    "iterations = 100\n",
    "\n",
    "exact_mll = []\n",
    "\n",
    "for i in tqdm(range(iterations)):\n",
    "    u_hparams, u_hparams_polyak, opt_state = mll_update_fn(\n",
    "        u_hparams, u_hparams_polyak, None, None, None, None, opt_state)\n",
    "    hparams = jax.tree_map(jax.nn.softplus, u_hparams)\n",
    "    exact_mll.append(mll_exact(train_x, train_y, kernel.kernel_fn, hparams))\n",
    "    exact_hparams_all.append(hparams)\n",
    "        # print(exact_mll_loss(train_x, train_y, kernel.kernel_fn, hparams))\n",
    "# print(exact_mll_loss(train_x, train_y, kernel.kernel_fn, hparams))\n",
    "\n",
    "\n"
   ]
  },
  {
   "cell_type": "code",
   "execution_count": 4,
   "metadata": {},
   "outputs": [],
   "source": [
    "sample_mll = {}"
   ]
  },
  {
   "cell_type": "markdown",
   "metadata": {},
   "source": [
    "### Compare Trace Estimator to Exact Gradient"
   ]
  },
  {
   "cell_type": "code",
   "execution_count": 8,
   "metadata": {},
   "outputs": [
    {
     "name": "stderr",
     "output_type": "stream",
     "text": [
      "100%|██████████| 100/100 [00:07<00:00, 13.67it/s]\n",
      "100%|██████████| 100/100 [00:07<00:00, 14.06it/s]\n",
      "100%|██████████| 100/100 [00:07<00:00, 13.76it/s]\n"
     ]
    }
   ],
   "source": [
    "import optax\n",
    "from scalable_gps.linear_model import mll_exact\n",
    "\n",
    "\n",
    "samples = [1, 4, 64]\n",
    "\n",
    "for n_samples in samples:\n",
    "\n",
    "    key = jr.PRNGKey(12345)\n",
    "\n",
    "    mll_grad_fn = get_mll_grad_fn(\n",
    "        train_x, train_y, kernel.kernel_fn, kernel.kernel_grad_fn, \"samples\")\n",
    "\n",
    "    optimiser = optax.adam(0.1)\n",
    "\n",
    "    mll_update_fn = get_mll_update_fn(mll_grad_fn, optimiser, 1e-3)\n",
    "\n",
    "    u_hparams = jax.tree_map(jnp.zeros_like, hparams_exact)\n",
    "    u_hparams_polyak = jax.tree_map(jnp.zeros_like, hparams_exact)\n",
    "\n",
    "    opt_state = optimiser.init(u_hparams)\n",
    "    iterations = 100\n",
    "\n",
    "    sample_mll[n_samples] = []\n",
    "    alpha_maps = []\n",
    "    all_hparams = []\n",
    "    for i in tqdm(range(iterations)):\n",
    "        hparams = jax.tree_map(jax.nn.softplus, u_hparams)\n",
    "        \n",
    "        # Calculate alpha and alpha_samples\n",
    "        K = kernel.kernel_fn(train_x, train_x, hparams.kernel_hparams)\n",
    "        H = K + (hparams.noise_scale ** 2) * jnp.eye(N)\n",
    "        alpha_map = jsp.linalg.solve(H, train_y, assume_a='pos')\n",
    "        alpha_maps.append(alpha_map)\n",
    "        H_inv = jnp.linalg.inv(H)\n",
    "        alpha_samples = jr.multivariate_normal(\n",
    "            key, jnp.zeros(N), H_inv, shape=(n_samples,))\n",
    "        \n",
    "        # Pass in alpha_map, alpha_samples\n",
    "        u_hparams, u_hparams_polyak, opt_state = mll_update_fn(\n",
    "            u_hparams, u_hparams_polyak, alpha_map, alpha_samples, None, None, opt_state)\n",
    "        \n",
    "        hparams = jax.tree_map(jax.nn.softplus, u_hparams)\n",
    "        all_hparams.append(hparams)\n",
    "        sample_mll[n_samples].append(mll_exact(train_x, train_y, kernel.kernel_fn, hparams))\n",
    "            # print(exact_mll_loss(train_x, train_y, kernel.kernel_fn, hparams))\n",
    "    # print(exact_mll_loss(train_x, train_y, kernel.kernel_fn, hparams))\n"
   ]
  },
  {
   "cell_type": "code",
   "execution_count": 9,
   "metadata": {},
   "outputs": [
    {
     "data": {
      "image/png": "[encoded data removed]",
      "text/plain": [
       "<Figure size 1200x400 with 3 Axes>"
      ]
     },
     "metadata": {},
     "output_type": "display_data"
    },
    {
     "data": {
      "image/png": "[encoded data removed]",
      "text/plain": [
       "<Figure size 640x480 with 1 Axes>"
      ]
     },
     "metadata": {},
     "output_type": "display_data"
    }
   ],
   "source": [
    "noises = []\n",
    "signal_scales = []\n",
    "length_scales = []\n",
    "for hparam in all_hparams:\n",
    "    noises.append(hparam.noise_scale)\n",
    "    signal_scales.append(hparam.kernel_hparams.signal_scale)\n",
    "    length_scales.append(hparam.kernel_hparams.length_scale)\n",
    "\n",
    "exact_noises = []\n",
    "exact_signal_scales = []\n",
    "exact_length_scales = []\n",
    "for hparam in exact_hparams_all:\n",
    "    exact_noises.append(hparam.noise_scale)\n",
    "    exact_signal_scales.append(hparam.kernel_hparams.signal_scale)\n",
    "    exact_length_scales.append(hparam.kernel_hparams.length_scale)\n",
    "\n",
    "exact_length_scales = np.array(exact_length_scales)\n",
    "length_scales = np.array(length_scales)\n",
    "\n",
    "# print(exact_length_scales.shape)\n",
    "fig, ax = plt.subplots(1, 3, figsize=(12, 4))\n",
    "ax[0].plot(noises, label='samples')\n",
    "ax[0].plot(exact_noises, label='exact', linestyle='--')\n",
    "\n",
    "ax[1].plot(signal_scales, label='samples')\n",
    "ax[1].plot(exact_signal_scales, label='exact', linestyle='--')\n",
    "\n",
    "ax[2].plot(np.mean(length_scales, axis=1), label='samples')\n",
    "ax[2].plot(np.mean(exact_length_scales, axis=1), label='exact', linestyle='--')\n",
    "\n",
    "ax[0].set_title('noise_scale')\n",
    "ax[1].set_title('signal_scale')\n",
    "ax[2].set_title('length_scales')\n",
    "\n",
    "ax[0].set_yscale('log')\n",
    "plt.legend()\n",
    "plt.show()\n",
    "\n",
    "alpha_map_diffs = []\n",
    "alpha_map_zero_diffs = []\n",
    "for i in range(1, len(alpha_maps)):\n",
    "    alpha_map_diffs.append(np.linalg.norm(alpha_maps[i] - alpha_maps[i-1]))\n",
    "    alpha_map_zero_diffs.append(np.linalg.norm(alpha_maps[i]))\n",
    "plt.plot(alpha_map_diffs, label='alpha[i] - alpha[i-1] norm')\n",
    "# plt.plot(alpha_map_zero_diffs, label='alpha[i] norm')\n",
    "plt.legend()\n",
    "plt.show()"
   ]
  },
  {
   "cell_type": "code",
   "execution_count": 11,
   "metadata": {},
   "outputs": [
    {
     "name": "stdout",
     "output_type": "stream",
     "text": [
      "100 100\n"
     ]
    },
    {
     "data": {
      "image/png": "[encoded data removed]",
      "text/plain": [
       "<Figure size 640x480 with 1 Axes>"
      ]
     },
     "metadata": {},
     "output_type": "display_data"
    }
   ],
   "source": [
    "\n",
    "\n",
    "n_samples = [1, 4, 64]\n",
    "x_vals = np.linspace(0, 100, 100)\n",
    "print(len(exact_mll), len(sample_mll[64]))\n",
    "\n",
    "plot_iters = 100\n",
    "plt.grid()\n",
    "plt.plot(x_vals[:plot_iters], -np.array(exact_mll)[:plot_iters], label='exact_mll')\n",
    "for sample in n_samples:\n",
    "    plt.plot(x_vals[:plot_iters], -np.array(sample_mll[sample])[:plot_iters], label=f'sample_mll, {sample} samples')\n",
    "plt.xlabel('Iterations')\n",
    "plt.ylabel('MLL')\n",
    "plt.legend()\n",
    "# plt.yscale('log')\n",
    "# plt.ylim([7e2, 9e2])\n",
    "plt.show()"
   ]
  },
  {
   "cell_type": "markdown",
   "metadata": {},
   "source": [
    "### Optimise $\\bar{\\alpha}$ keeping samples fixed"
   ]
  },
  {
   "cell_type": "code",
   "execution_count": 5,
   "metadata": {},
   "outputs": [],
   "source": [
    "# Define all the functions we need to optimise MAP and samples (naively for now without vmap)\n",
    "from chex import Array\n",
    "\n",
    "def get_alpha_map(train_x, train_y, kernel_fn, hparams, iter_num, init_alpha: Array = None,\n",
    "                  lr=30., iterations=10000, B=256):\n",
    "    momentum = 0.9\n",
    "    polyak = 1e-3\n",
    "\n",
    "    \n",
    "    K = kernel.kernel_fn(train_x, train_x, hparams.kernel_hparams)\n",
    "    H = K + (hparams.noise_scale ** 2) * jnp.eye(N)\n",
    "    alpha_exact = jsp.linalg.solve(H, train_y, assume_a='pos')\n",
    "\n",
    "    if init_alpha is None:\n",
    "        alpha = jnp.zeros((N,))\n",
    "    else:\n",
    "        alpha = init_alpha\n",
    "    alpha_polyak = jnp.zeros((N,))\n",
    "    optimiser = optax.sgd(learning_rate=lr, momentum=momentum, nesterov=True)\n",
    "    opt_state = optimiser.init(alpha)\n",
    "    \n",
    "    @jax.jit\n",
    "    def g(params: Array, idx: Array):\n",
    "        # compute kernel matrix for mini-batch\n",
    "        # select mini-batch from pre-computed kernel matrix\n",
    "        K_batch = K[idx]\n",
    "        grad = jnp.zeros((N,))\n",
    "        return grad.at[idx].set(K_batch @ params - train_y[idx] + (hparams.noise_scale ** 2) * params[idx]) / B\n",
    "\n",
    "    @jax.jit\n",
    "    def get_idx(i: int):\n",
    "        # implements iterative mini-batches with shuffling after each epoch\n",
    "        n_steps_per_epoch = N // B\n",
    "        epoch_id = i // n_steps_per_epoch\n",
    "        epoch_key = jr.PRNGKey(epoch_id)\n",
    "        idx = (jnp.arange(B) + (i * B)) % N\n",
    "        idx = jr.permutation(epoch_key, N)[idx]\n",
    "        return idx\n",
    "\n",
    "    @jax.jit\n",
    "    def update(params: Array, params_polyak: Array, idx: Array, opt_state: optax.OptState):\n",
    "        grad = g(params, idx)\n",
    "        updates, opt_state = optimiser.update(grad, opt_state)\n",
    "        new_params = optax.apply_updates(params, updates)\n",
    "        new_params_polyak = optax.incremental_update(new_params, params_polyak, step_size=polyak)\n",
    "        return new_params, new_params_polyak, opt_state, grad\n",
    "\n",
    "    alpha_diff = []\n",
    "    grad_norm = []\n",
    "    alpha_K_diff = []\n",
    "    \n",
    "    for i in tqdm(range(iterations)):\n",
    "        idx = get_idx(i)\n",
    "        alpha, alpha_polyak, opt_state, grad = update(alpha, alpha_polyak, idx, opt_state)\n",
    "        alpha_diff.append(jnp.linalg.norm(alpha_polyak - alpha_exact))\n",
    "        grad_norm.append(jnp.linalg.norm(grad))\n",
    "        alpha_K_diff.append(jnp.mean((alpha - alpha_exact) @ K @ (alpha - alpha_exact)))\n",
    "    return alpha_polyak, alpha_diff, grad_norm, alpha_K_diff"
   ]
  },
  {
   "cell_type": "code",
   "execution_count": 6,
   "metadata": {},
   "outputs": [
    {
     "name": "stderr",
     "output_type": "stream",
     "text": [
      "100%|██████████| 50000/50000 [00:28<00:00, 1777.75it/s]\n",
      "100%|██████████| 10000/10000 [00:06<00:00, 1520.85it/s]\n",
      "100%|██████████| 10000/10000 [00:06<00:00, 1555.07it/s]\n",
      "100%|██████████| 10000/10000 [00:06<00:00, 1552.81it/s]\n",
      "100%|██████████| 10000/10000 [00:06<00:00, 1431.23it/s]\n",
      "100%|██████████| 10000/10000 [00:06<00:00, 1541.32it/s]\n",
      "100%|██████████| 10000/10000 [00:06<00:00, 1542.96it/s]\n",
      "100%|██████████| 10000/10000 [00:06<00:00, 1537.80it/s]\n",
      "100%|██████████| 10000/10000 [00:06<00:00, 1539.79it/s]\n",
      "100%|██████████| 10000/10000 [00:06<00:00, 1454.99it/s]\n",
      "100%|██████████| 10000/10000 [00:06<00:00, 1509.24it/s]\n",
      "100%|██████████| 10000/10000 [00:07<00:00, 1363.54it/s]\n",
      "100%|██████████| 10000/10000 [00:06<00:00, 1525.29it/s]\n",
      "100%|██████████| 10000/10000 [00:07<00:00, 1345.06it/s]\n",
      "100%|██████████| 10000/10000 [00:07<00:00, 1329.11it/s]\n",
      "100%|██████████| 10000/10000 [00:08<00:00, 1187.07it/s]\n",
      "100%|██████████| 10000/10000 [00:06<00:00, 1572.91it/s]\n",
      "100%|██████████| 10000/10000 [00:06<00:00, 1587.38it/s]\n",
      "100%|██████████| 10000/10000 [00:07<00:00, 1364.78it/s]\n",
      "100%|██████████| 10000/10000 [00:07<00:00, 1358.82it/s]\n",
      "100%|██████████| 10000/10000 [00:07<00:00, 1357.92it/s]\n",
      "100%|██████████| 10000/10000 [00:07<00:00, 1360.86it/s]\n",
      "100%|██████████| 10000/10000 [00:07<00:00, 1356.57it/s]\n",
      "100%|██████████| 10000/10000 [00:08<00:00, 1237.50it/s]\n",
      "100%|██████████| 10000/10000 [00:06<00:00, 1450.13it/s]\n",
      "100%|██████████| 10000/10000 [00:06<00:00, 1434.72it/s]\n",
      "100%|██████████| 10000/10000 [00:07<00:00, 1365.35it/s]\n",
      "100%|██████████| 10000/10000 [00:07<00:00, 1372.73it/s]\n",
      "100%|██████████| 10000/10000 [00:07<00:00, 1368.61it/s]\n",
      "100%|██████████| 10000/10000 [00:07<00:00, 1368.31it/s]\n",
      "100%|██████████| 10000/10000 [00:07<00:00, 1384.82it/s]\n",
      "100%|██████████| 10000/10000 [00:07<00:00, 1401.83it/s]\n",
      "100%|██████████| 10000/10000 [00:08<00:00, 1220.95it/s]\n",
      "100%|██████████| 10000/10000 [00:07<00:00, 1384.72it/s]\n",
      "100%|██████████| 10000/10000 [00:07<00:00, 1408.83it/s]\n",
      "100%|██████████| 10000/10000 [00:07<00:00, 1397.85it/s]\n",
      "100%|██████████| 10000/10000 [00:08<00:00, 1224.07it/s]\n",
      "100%|██████████| 10000/10000 [00:07<00:00, 1378.75it/s]\n",
      "100%|██████████| 10000/10000 [00:07<00:00, 1378.33it/s]\n",
      "100%|██████████| 10000/10000 [00:06<00:00, 1467.28it/s]\n",
      "100%|██████████| 10000/10000 [00:07<00:00, 1392.32it/s]\n",
      "100%|██████████| 10000/10000 [00:07<00:00, 1409.38it/s]\n",
      "100%|██████████| 10000/10000 [00:07<00:00, 1399.04it/s]\n",
      "100%|██████████| 10000/10000 [00:08<00:00, 1205.04it/s]\n",
      "100%|██████████| 10000/10000 [00:08<00:00, 1230.34it/s]\n",
      "100%|██████████| 10000/10000 [00:07<00:00, 1422.26it/s]\n",
      "100%|██████████| 10000/10000 [00:06<00:00, 1445.85it/s]\n",
      "100%|██████████| 10000/10000 [00:07<00:00, 1370.91it/s]\n",
      "100%|██████████| 10000/10000 [00:06<00:00, 1481.24it/s]\n",
      "100%|██████████| 10000/10000 [00:06<00:00, 1445.44it/s]\n",
      "100%|██████████| 10000/10000 [00:06<00:00, 1460.89it/s]\n",
      "100%|██████████| 10000/10000 [00:06<00:00, 1445.62it/s]\n",
      "100%|██████████| 10000/10000 [00:09<00:00, 1055.48it/s]\n",
      "100%|██████████| 10000/10000 [00:07<00:00, 1413.86it/s]\n",
      "100%|██████████| 10000/10000 [00:07<00:00, 1410.95it/s]\n",
      "100%|██████████| 10000/10000 [00:07<00:00, 1405.04it/s]\n",
      "100%|██████████| 10000/10000 [00:07<00:00, 1402.29it/s]\n",
      "100%|██████████| 10000/10000 [00:07<00:00, 1422.51it/s]\n",
      "100%|██████████| 10000/10000 [00:08<00:00, 1136.91it/s]\n",
      "100%|██████████| 10000/10000 [00:06<00:00, 1492.97it/s]\n",
      "100%|██████████| 10000/10000 [00:06<00:00, 1460.12it/s]\n",
      "100%|██████████| 10000/10000 [00:06<00:00, 1453.49it/s]\n",
      "100%|██████████| 10000/10000 [00:06<00:00, 1469.08it/s]\n",
      "100%|██████████| 10000/10000 [00:06<00:00, 1489.34it/s]\n",
      "100%|██████████| 10000/10000 [00:06<00:00, 1475.63it/s]\n",
      "100%|██████████| 10000/10000 [00:06<00:00, 1442.02it/s]\n",
      "100%|██████████| 10000/10000 [00:06<00:00, 1460.92it/s]\n",
      "100%|██████████| 10000/10000 [00:07<00:00, 1289.14it/s]\n",
      "100%|██████████| 10000/10000 [00:07<00:00, 1327.13it/s]\n",
      "100%|██████████| 10000/10000 [00:07<00:00, 1315.15it/s]\n",
      "100%|██████████| 10000/10000 [00:07<00:00, 1306.46it/s]\n",
      "100%|██████████| 10000/10000 [00:07<00:00, 1327.24it/s]\n",
      "100%|██████████| 10000/10000 [00:07<00:00, 1332.21it/s]\n",
      "100%|██████████| 10000/10000 [00:07<00:00, 1348.99it/s]\n",
      "100%|██████████| 10000/10000 [00:07<00:00, 1342.31it/s]\n",
      "100%|██████████| 10000/10000 [00:09<00:00, 1032.34it/s]\n",
      "100%|██████████| 10000/10000 [00:06<00:00, 1429.81it/s]\n",
      "100%|██████████| 10000/10000 [00:07<00:00, 1362.57it/s]\n",
      "100%|██████████| 10000/10000 [00:07<00:00, 1355.60it/s]\n",
      "100%|██████████| 10000/10000 [00:07<00:00, 1396.52it/s]\n",
      "100%|██████████| 10000/10000 [00:06<00:00, 1475.13it/s]\n",
      "100%|██████████| 10000/10000 [00:06<00:00, 1480.69it/s]\n",
      "100%|██████████| 10000/10000 [00:06<00:00, 1488.35it/s]\n",
      "100%|██████████| 10000/10000 [00:07<00:00, 1343.17it/s]\n",
      "100%|██████████| 10000/10000 [00:07<00:00, 1361.41it/s]\n",
      "100%|██████████| 10000/10000 [00:07<00:00, 1346.50it/s]\n",
      "100%|██████████| 10000/10000 [00:07<00:00, 1351.77it/s]\n",
      "100%|██████████| 10000/10000 [00:06<00:00, 1585.78it/s]\n",
      "100%|██████████| 10000/10000 [00:07<00:00, 1366.27it/s]\n",
      "100%|██████████| 10000/10000 [00:07<00:00, 1353.47it/s]\n",
      "100%|██████████| 10000/10000 [00:07<00:00, 1350.96it/s]\n",
      "100%|██████████| 10000/10000 [00:09<00:00, 1070.11it/s]\n",
      "100%|██████████| 10000/10000 [00:08<00:00, 1162.07it/s]\n",
      "100%|██████████| 10000/10000 [00:07<00:00, 1382.44it/s]\n",
      "100%|██████████| 10000/10000 [00:07<00:00, 1383.26it/s]\n",
      "100%|██████████| 10000/10000 [00:07<00:00, 1407.50it/s]\n",
      "100%|██████████| 10000/10000 [00:07<00:00, 1427.83it/s]\n",
      "100%|██████████| 10000/10000 [00:09<00:00, 1023.75it/s]\n",
      "100%|██████████| 10000/10000 [00:07<00:00, 1413.92it/s]\n",
      "100%|██████████| 10000/10000 [00:06<00:00, 1437.43it/s]\n",
      "100%|██████████| 100/100 [12:36<00:00,  7.57s/it]\n"
     ]
    }
   ],
   "source": [
    "import optax\n",
    "from scalable_gps.linear_model import mll_exact\n",
    "\n",
    "\n",
    "samples = [64]\n",
    "\n",
    "for n_samples in samples:\n",
    "\n",
    "    key = jr.PRNGKey(12345)\n",
    "\n",
    "    mll_grad_fn = get_mll_grad_fn(\n",
    "        train_x, train_y, kernel.kernel_fn, kernel.kernel_grad_fn, \"samples\")\n",
    "\n",
    "    optimiser = optax.adam(0.2)\n",
    "\n",
    "    mll_update_fn = get_mll_update_fn(mll_grad_fn, optimiser, 1e-3)\n",
    "\n",
    "    u_hparams = jax.tree_map(jnp.zeros_like, hparams_exact)\n",
    "    u_hparams_polyak = jax.tree_map(jnp.zeros_like, hparams_exact)\n",
    "\n",
    "\n",
    "    opt_state = optimiser.init(u_hparams)\n",
    "    iterations = 100\n",
    "\n",
    "    sample_mll[n_samples] = []\n",
    "    alpha_diffs = []\n",
    "    grad_norms = []\n",
    "    alpha_K_diffs = []\n",
    "    all_hparams = []\n",
    "    alpha_map = None\n",
    "    alpha_maps = []\n",
    "    \n",
    "    for i in tqdm(range(iterations)):\n",
    "        hparams = jax.tree_map(jax.nn.softplus, u_hparams)\n",
    "        \n",
    "        # hparams = hparams._replace(noise_scale=0.03686391)\n",
    "        \n",
    "        # Calculate alpha and alpha_samples\n",
    "        K = kernel.kernel_fn(train_x, train_x, hparams.kernel_hparams)\n",
    "        H = K + (hparams.noise_scale ** 2) * jnp.eye(N)\n",
    "        \n",
    "        alpha_map, alpha_diff, grad_norm, alpha_K_diff = get_alpha_map(\n",
    "            train_x, train_y, kernel.kernel_fn, hparams, i, init_alpha=alpha_map,\n",
    "            lr=30., iterations=50000 if i == 0 else 10000, B=512)\n",
    "        alpha_maps.append(alpha_map)\n",
    "        alpha_diffs.extend(alpha_diff)\n",
    "        grad_norms.extend(grad_norm)\n",
    "        alpha_K_diffs.extend(alpha_K_diff)\n",
    "        \n",
    "        # fig, ax = plt.subplots(1, 3, figsize=(15, 5))\n",
    "        # ax[0].plot(alpha_diff)\n",
    "        # ax[1].plot(grad_norm)\n",
    "        # ax[2].plot(alpha_K_diff)\n",
    "        # for l in range(3):\n",
    "        #     ax[l].semilogy()\n",
    "        # plt.show()\n",
    "        # alpha_map = jsp.linalg.solve(H, train_y, assume_a='pos')\n",
    "        \n",
    "        H_inv = jnp.linalg.inv(H)\n",
    "        alpha_samples = jr.multivariate_normal(\n",
    "            key, jnp.zeros(N), H_inv, shape=(n_samples,))\n",
    "        \n",
    "        # Pass in alpha_map, alpha_samples\n",
    "        u_hparams, u_hparams_polyak, opt_state = mll_update_fn(\n",
    "            u_hparams, u_hparams_polyak, alpha_map, alpha_samples, None, None, opt_state)\n",
    "        \n",
    "        hparams = jax.tree_map(jax.nn.softplus, u_hparams)\n",
    "        # hparams = hparams._replace(noise_scale=0.03686391)\n",
    "        all_hparams.append(hparams)\n",
    "        \n",
    "        sample_mll[n_samples].append(mll_exact(train_x, train_y, kernel.kernel_fn, hparams))\n",
    "            # print(exact_mll_loss(train_x, train_y, kernel.kernel_fn, hparams))\n",
    "    # print(exact_mll_loss(train_x, train_y, kernel.kernel_fn, hparams))\n",
    "\n",
    "alpha_diffs = np.array(alpha_diffs)\n"
   ]
  },
  {
   "cell_type": "code",
   "execution_count": 64,
   "metadata": {},
   "outputs": [],
   "source": [
    "reinit_alpha_mll = sample_mll[64]\n",
    "reinit_alpha_diff = alpha_diffs"
   ]
  },
  {
   "cell_type": "code",
   "execution_count": 8,
   "metadata": {},
   "outputs": [
    {
     "name": "stderr",
     "output_type": "stream",
     "text": [
      "No handles with labels found to put in legend.\n"
     ]
    },
    {
     "data": {
      "image/png": "[encoded data removed]",
      "text/plain": [
       "<Figure size 1200x400 with 2 Axes>"
      ]
     },
     "metadata": {},
     "output_type": "display_data"
    },
    {
     "name": "stderr",
     "output_type": "stream",
     "text": [
      "No handles with labels found to put in legend.\n",
      "No handles with labels found to put in legend.\n"
     ]
    },
    {
     "data": {
      "image/png": "[encoded data removed]",
      "text/plain": [
       "<Figure size 1200x400 with 2 Axes>"
      ]
     },
     "metadata": {},
     "output_type": "display_data"
    }
   ],
   "source": [
    "fig, ax = plt.subplots(1, 2, figsize=(12, 4))\n",
    "\n",
    "alpha_diffs = np.array(alpha_diffs)\n",
    "# for i in range(10):\n",
    "#     ax[0].plot(alpha_diffs[i * 50000:(i + 1) * 50000], label=f'iter {i}')\n",
    "ax[0].plot(alpha_diffs)\n",
    "ax[0].set_yscale('log')\n",
    "ax[0].legend()\n",
    "ax[0].set_title(r'$\\|\\bar{\\alpha}(\\theta) - \\bar{\\alpha}^{*}(\\theta)\\|_2$')\n",
    "\n",
    "ax[1].plot(-1 * np.array(sample_mll[64]), label='64 samples, alpha_map opt')\n",
    "ax[1].plot(-1 * np.array(exact_mll), label='exact_mll')\n",
    "\n",
    "plt.legend()\n",
    "plt.show()\n",
    "\n",
    "fig, ax = plt.subplots(1, 2, figsize=(12, 4))\n",
    "\n",
    "alpha_K_diffs = np.array(alpha_K_diffs)\n",
    "grad_norms = np.array(grad_norms)\n",
    "# for i in range(10):\n",
    "#     ax[0].plot(alpha_diffs[i * 50000:(i + 1) * 50000], label=f'iter {i}')\n",
    "ax[0].plot(grad_norms)\n",
    "ax[0].set_yscale('log')\n",
    "ax[0].legend()\n",
    "ax[0].set_title(r'$\\|\\nabla_{\\alpha} L^{*}(\\alpha}) \\|_2$')\n",
    "\n",
    "ax[1].plot(alpha_K_diffs)\n",
    "ax[1].set_yscale('log')\n",
    "ax[1].set_title(r'$\\|\\bar{\\alpha}(\\theta) - \\bar{\\alpha}^{*}(\\theta)\\|_K$')\n",
    "plt.legend()\n",
    "plt.show()\n",
    "# plt.plot(alpha_diffs)"
   ]
  },
  {
   "cell_type": "code",
   "execution_count": 9,
   "metadata": {},
   "outputs": [
    {
     "name": "stdout",
     "output_type": "stream",
     "text": [
      "sgd best test RMSE  0.119129956\n",
      "exact best test RMSE  0.124364\n"
     ]
    },
    {
     "data": {
      "image/png": "[encoded data removed]",
      "text/plain": [
       "<Figure size 1200x400 with 3 Axes>"
      ]
     },
     "metadata": {},
     "output_type": "display_data"
    }
   ],
   "source": [
    "noises = []\n",
    "signal_scales = []\n",
    "length_scales = []\n",
    "for hparam in all_hparams:\n",
    "    noises.append(hparam.noise_scale)\n",
    "    signal_scales.append(hparam.kernel_hparams.signal_scale)\n",
    "    length_scales.append(hparam.kernel_hparams.length_scale)\n",
    "\n",
    "exact_noises = []\n",
    "exact_signal_scales = []\n",
    "exact_length_scales = []\n",
    "for hparam in exact_hparams_all:\n",
    "    exact_noises.append(hparam.noise_scale)\n",
    "    exact_signal_scales.append(hparam.kernel_hparams.signal_scale)\n",
    "    exact_length_scales.append(hparam.kernel_hparams.length_scale)\n",
    "    \n",
    "    \n",
    "sgd_hparams = all_hparams[-1]\n",
    "exact_hparams = exact_hparams_all[-1]\n",
    "\n",
    "K = kernel.kernel_fn(train_x, train_x, sgd_hparams.kernel_hparams)\n",
    "H = K + (sgd_hparams.noise_scale ** 2) * jnp.identity(N)\n",
    "alpha_exact = jsp.linalg.solve(H, train_y, assume_a='pos')\n",
    "y_pred_test_exact = kernel.kernel_fn(test_x, train_x, sgd_hparams.kernel_hparams) @ alpha_exact\n",
    "test_rmse_exact = jnp.sqrt(jnp.mean((y_pred_test_exact - test_y) ** 2))\n",
    "print('sgd best test RMSE ', test_rmse_exact)\n",
    "K = kernel.kernel_fn(train_x, train_x, exact_hparams.kernel_hparams)\n",
    "H = K + (exact_hparams.noise_scale ** 2) * jnp.identity(N)\n",
    "alpha_exact = jsp.linalg.solve(H, train_y, assume_a='pos')\n",
    "y_pred_test_exact = kernel.kernel_fn(test_x, train_x, exact_hparams.kernel_hparams) @ alpha_exact\n",
    "test_rmse_exact = jnp.sqrt(jnp.mean((y_pred_test_exact - test_y) ** 2))\n",
    "print('exact best test RMSE ', test_rmse_exact)\n",
    "exact_length_scales = np.array(exact_length_scales)\n",
    "length_scales = np.array(length_scales)\n",
    "\n",
    "# print(exact_length_scales.shape)./\n",
    "fig, ax = plt.subplots(1, 3, figsize=(12, 4))\n",
    "ax[0].plot(noises, label='samples')\n",
    "ax[0].plot(exact_noises, label='exact', linestyle='--')\n",
    "\n",
    "ax[1].plot(signal_scales, label='samples')\n",
    "ax[1].plot(exact_signal_scales, label='exact')\n",
    "\n",
    "ax[2].plot(np.mean(length_scales, axis=1), label='samples')\n",
    "ax[2].plot(np.mean(exact_length_scales, axis=1), label='exact')\n",
    "\n",
    "# print(np.mean(length_scales - exact_length_scales, axis=1))\n",
    "ax[0].set_title('noise_scale')\n",
    "ax[1].set_title('signal_scale')\n",
    "ax[2].set_title('length_scales')\n",
    "\n",
    "ax[0].set_yscale('log')\n",
    "plt.legend()\n",
    "plt.show()"
   ]
  },
  {
   "cell_type": "markdown",
   "metadata": {},
   "source": [
    "### Optimise both $\\bar{\\alpha}$ and samples $\\alpha_i$"
   ]
  },
  {
   "cell_type": "code",
   "execution_count": 6,
   "metadata": {},
   "outputs": [],
   "source": [
    "def get_alpha_samples(train_x, train_y, kernel_fn, feature_params_fn, feature_fn, hparams, iter_num, init_alpha: Array = None,\n",
    "                      lr=30., iterations=10000, B=256):\n",
    "    key = jax.random.key(123)\n",
    "    \n",
    "    prior_noise_key, feature_key = jax.random.split(key)\n",
    "    momentum = 0.9\n",
    "    polyak = 1e-3\n",
    "    n_features = 100\n",
    "    n_samples = 64\n",
    "\n",
    "    N, D = train_x.shape\n",
    "    \n",
    "    def _draw_f0_and_eps_samples(_key):\n",
    "        prior_noise_key, feature_key = jax.random.split(_key)\n",
    "        feature_params = feature_params_fn(feature_key, n_features, D)\n",
    "        L = feature_fn(train_x, feature_params, hparams.kernel_hparams)\n",
    "        \n",
    "        w_sample = jr.normal(key, shape=(n_features,))\n",
    "        _f0_samples_train = L @ w_sample\n",
    "        \n",
    "        _eps_sample = hparams.noise_scale * jr.normal(prior_noise_key, shape=(N,))\n",
    "        \n",
    "        return _f0_samples_train, _eps_sample\n",
    "    \n",
    "    f0_samples_train, eps_sample = jax.vmap(_draw_f0_and_eps_samples)(jr.split(key, n_samples))\n",
    "    \n",
    "    print(f'f0_samples_train shape {f0_samples_train.shape}')\n",
    "    print(f'eps_sample shape {eps_sample.shape}')\n",
    "    \n",
    "    K = kernel.kernel_fn(train_x, train_x, hparams.kernel_hparams)\n",
    "    H = K + (hparams.noise_scale ** 2) * jnp.eye(N)\n",
    "    \n",
    "    # H_inv = jnp.linalg.inv(H)\n",
    "    # alpha_samples_exact = jr.multivariate_normal(\n",
    "    #     key, jnp.zeros(N), H_inv, shape=(n_samples,))\n",
    "\n",
    "\n",
    "    if init_alpha is None:\n",
    "        alpha = jnp.zeros((n_samples, N))\n",
    "    else:\n",
    "        alpha = init_alpha\n",
    "    alpha_polyak = jnp.zeros((n_samples, N))\n",
    "    optimiser = optax.sgd(learning_rate=lr, momentum=momentum, nesterov=True)\n",
    "    opt_state = optimiser.init(alpha)\n",
    "    \n",
    "    @jax.jit\n",
    "    def g(params: Array, idx: Array, err_target: Array, reg_target: Array):\n",
    "        # compute kernel matrix for mini-batch\n",
    "        # select mini-batch from pre-computed kernel matrix\n",
    "        K_batch = K[idx]\n",
    "        grad = jnp.zeros((N,))\n",
    "        return grad.at[idx].set(\n",
    "            K_batch @ params - err_target[idx] + (hparams.noise_scale ** 2) * params[idx] - reg_target[idx]) / B\n",
    "\n",
    "    @jax.jit\n",
    "    def get_idx(i: int):\n",
    "        # implements iterative mini-batches with shuffling after each epoch\n",
    "        n_steps_per_epoch = N // B\n",
    "        epoch_id = i // n_steps_per_epoch\n",
    "        epoch_key = jr.PRNGKey(epoch_id)\n",
    "        idx = (jnp.arange(B) + (i * B)) % N\n",
    "        idx = jr.permutation(epoch_key, N)[idx]\n",
    "        return idx\n",
    "\n",
    "    @jax.jit\n",
    "    def update(params: Array, params_polyak: Array, idx: Array, opt_state: optax.OptState,\n",
    "               err_target: Array, reg_target: Array):\n",
    "        grad = g(params, idx, err_target, reg_target)\n",
    "        updates, opt_state = optimiser.update(grad, opt_state)\n",
    "        new_params = optax.apply_updates(params, updates)\n",
    "        new_params_polyak = optax.incremental_update(new_params, params_polyak, step_size=polyak)\n",
    "        return new_params, new_params_polyak, opt_state, grad\n",
    "\n",
    "    update_fn = jax.vmap(update, in_axes=(0, 0, None, 0, 0, 0))\n",
    "    \n",
    "    alpha_diff = []\n",
    "    grad_norm = []\n",
    "    alpha_K_diff = []\n",
    "    \n",
    "    for i in tqdm(range(iterations)):\n",
    "        idx = get_idx(i)\n",
    "        alpha, alpha_polyak, opt_state, grad = update_fn(\n",
    "            alpha, alpha_polyak, idx, opt_state, f0_samples_train, eps_sample)\n",
    "        # alpha_diff.append(jnp.linalg.norm(alpha_polyak - alpha_samples_exact))\n",
    "        grad_norm.append(jnp.linalg.norm(grad))\n",
    "    return alpha_polyak, None, grad_norm, None"
   ]
  },
  {
   "cell_type": "code",
   "execution_count": 24,
   "metadata": {},
   "outputs": [
    {
     "name": "stdout",
     "output_type": "stream",
     "text": [
      "f0_samples_train shape (64, 3000)\n",
      "eps_sample shape (64, 3000)\n"
     ]
    },
    {
     "name": "stderr",
     "output_type": "stream",
     "text": [
      "  0%|          | 0/10000 [00:00<?, ?it/s]"
     ]
    },
    {
     "name": "stderr",
     "output_type": "stream",
     "text": [
      "100%|██████████| 10000/10000 [00:15<00:00, 655.18it/s]\n"
     ]
    }
   ],
   "source": [
    "alpha_samples, _, grad_norm, _ = get_alpha_samples(\n",
    "    train_x, train_y, kernel.kernel_fn, kernel.feature_params_fn, kernel.feature_fn, \n",
    "    all_hparams[-1], 0)"
   ]
  },
  {
   "cell_type": "code",
   "execution_count": 7,
   "metadata": {},
   "outputs": [
    {
     "name": "stderr",
     "output_type": "stream",
     "text": [
      "  0%|          | 0/100 [00:00<?, ?it/s]"
     ]
    },
    {
     "name": "stderr",
     "output_type": "stream",
     "text": [
      "100%|██████████| 50000/50000 [01:07<00:00, 744.76it/s]\n"
     ]
    },
    {
     "name": "stdout",
     "output_type": "stream",
     "text": [
      "f0_samples_train shape (64, 13500)\n",
      "eps_sample shape (64, 13500)\n"
     ]
    },
    {
     "name": "stderr",
     "output_type": "stream",
     "text": [
      "100%|██████████| 10000/10000 [00:25<00:00, 385.01it/s]\n"
     ]
    },
    {
     "name": "stdout",
     "output_type": "stream",
     "text": [
      "alpha_samples :  (64, 13500)\n"
     ]
    },
    {
     "name": "stderr",
     "output_type": "stream",
     "text": [
      "100%|██████████| 10000/10000 [00:22<00:00, 443.75it/s]\n"
     ]
    },
    {
     "name": "stdout",
     "output_type": "stream",
     "text": [
      "f0_samples_train shape (64, 13500)\n",
      "eps_sample shape (64, 13500)\n"
     ]
    },
    {
     "name": "stderr",
     "output_type": "stream",
     "text": [
      "100%|██████████| 10000/10000 [00:25<00:00, 398.59it/s]\n"
     ]
    },
    {
     "name": "stdout",
     "output_type": "stream",
     "text": [
      "alpha_samples :  (64, 13500)\n"
     ]
    },
    {
     "name": "stderr",
     "output_type": "stream",
     "text": [
      "100%|██████████| 10000/10000 [00:22<00:00, 442.46it/s]\n"
     ]
    },
    {
     "name": "stdout",
     "output_type": "stream",
     "text": [
      "f0_samples_train shape (64, 13500)\n",
      "eps_sample shape (64, 13500)\n"
     ]
    },
    {
     "name": "stderr",
     "output_type": "stream",
     "text": [
      "100%|██████████| 10000/10000 [00:25<00:00, 389.85it/s]\n"
     ]
    },
    {
     "name": "stdout",
     "output_type": "stream",
     "text": [
      "alpha_samples :  (64, 13500)\n"
     ]
    },
    {
     "name": "stderr",
     "output_type": "stream",
     "text": [
      "100%|██████████| 10000/10000 [00:22<00:00, 438.23it/s]\n"
     ]
    },
    {
     "name": "stdout",
     "output_type": "stream",
     "text": [
      "f0_samples_train shape (64, 13500)\n",
      "eps_sample shape (64, 13500)\n"
     ]
    },
    {
     "name": "stderr",
     "output_type": "stream",
     "text": [
      "100%|██████████| 10000/10000 [00:25<00:00, 399.47it/s]\n"
     ]
    },
    {
     "name": "stdout",
     "output_type": "stream",
     "text": [
      "alpha_samples :  (64, 13500)\n"
     ]
    },
    {
     "name": "stderr",
     "output_type": "stream",
     "text": [
      "100%|██████████| 10000/10000 [00:22<00:00, 444.38it/s]\n"
     ]
    },
    {
     "name": "stdout",
     "output_type": "stream",
     "text": [
      "f0_samples_train shape (64, 13500)\n",
      "eps_sample shape (64, 13500)\n"
     ]
    },
    {
     "name": "stderr",
     "output_type": "stream",
     "text": [
      "100%|██████████| 10000/10000 [00:25<00:00, 393.35it/s]\n"
     ]
    },
    {
     "name": "stdout",
     "output_type": "stream",
     "text": [
      "alpha_samples :  (64, 13500)\n"
     ]
    },
    {
     "name": "stderr",
     "output_type": "stream",
     "text": [
      "100%|██████████| 10000/10000 [00:22<00:00, 443.68it/s]\n"
     ]
    },
    {
     "name": "stdout",
     "output_type": "stream",
     "text": [
      "f0_samples_train shape (64, 13500)\n",
      "eps_sample shape (64, 13500)\n"
     ]
    },
    {
     "name": "stderr",
     "output_type": "stream",
     "text": [
      "100%|██████████| 10000/10000 [00:27<00:00, 368.48it/s]\n"
     ]
    },
    {
     "name": "stdout",
     "output_type": "stream",
     "text": [
      "alpha_samples :  (64, 13500)\n"
     ]
    },
    {
     "name": "stderr",
     "output_type": "stream",
     "text": [
      "100%|██████████| 10000/10000 [00:23<00:00, 432.72it/s]\n"
     ]
    },
    {
     "name": "stdout",
     "output_type": "stream",
     "text": [
      "f0_samples_train shape (64, 13500)\n",
      "eps_sample shape (64, 13500)\n"
     ]
    },
    {
     "name": "stderr",
     "output_type": "stream",
     "text": [
      "100%|██████████| 10000/10000 [00:26<00:00, 381.42it/s]\n"
     ]
    },
    {
     "name": "stdout",
     "output_type": "stream",
     "text": [
      "alpha_samples :  (64, 13500)\n"
     ]
    },
    {
     "name": "stderr",
     "output_type": "stream",
     "text": [
      "100%|██████████| 10000/10000 [00:22<00:00, 439.57it/s]\n"
     ]
    },
    {
     "name": "stdout",
     "output_type": "stream",
     "text": [
      "f0_samples_train shape (64, 13500)\n",
      "eps_sample shape (64, 13500)\n"
     ]
    },
    {
     "name": "stderr",
     "output_type": "stream",
     "text": [
      "100%|██████████| 10000/10000 [00:25<00:00, 389.60it/s]\n"
     ]
    },
    {
     "name": "stdout",
     "output_type": "stream",
     "text": [
      "alpha_samples :  (64, 13500)\n"
     ]
    },
    {
     "name": "stderr",
     "output_type": "stream",
     "text": [
      "100%|██████████| 10000/10000 [00:22<00:00, 438.87it/s]\n"
     ]
    },
    {
     "name": "stdout",
     "output_type": "stream",
     "text": [
      "f0_samples_train shape (64, 13500)\n",
      "eps_sample shape (64, 13500)\n"
     ]
    },
    {
     "name": "stderr",
     "output_type": "stream",
     "text": [
      "100%|██████████| 10000/10000 [00:25<00:00, 385.04it/s]\n"
     ]
    },
    {
     "name": "stdout",
     "output_type": "stream",
     "text": [
      "alpha_samples :  (64, 13500)\n"
     ]
    },
    {
     "name": "stderr",
     "output_type": "stream",
     "text": [
      "100%|██████████| 10000/10000 [00:22<00:00, 441.30it/s]\n"
     ]
    },
    {
     "name": "stdout",
     "output_type": "stream",
     "text": [
      "f0_samples_train shape (64, 13500)\n",
      "eps_sample shape (64, 13500)\n"
     ]
    },
    {
     "name": "stderr",
     "output_type": "stream",
     "text": [
      "100%|██████████| 10000/10000 [00:25<00:00, 384.85it/s]\n"
     ]
    },
    {
     "name": "stdout",
     "output_type": "stream",
     "text": [
      "alpha_samples :  (64, 13500)\n"
     ]
    },
    {
     "name": "stderr",
     "output_type": "stream",
     "text": [
      "100%|██████████| 10000/10000 [00:22<00:00, 441.25it/s]\n"
     ]
    },
    {
     "name": "stdout",
     "output_type": "stream",
     "text": [
      "f0_samples_train shape (64, 13500)\n",
      "eps_sample shape (64, 13500)\n"
     ]
    },
    {
     "name": "stderr",
     "output_type": "stream",
     "text": [
      "100%|██████████| 10000/10000 [00:25<00:00, 390.52it/s]\n"
     ]
    },
    {
     "name": "stdout",
     "output_type": "stream",
     "text": [
      "alpha_samples :  (64, 13500)\n"
     ]
    },
    {
     "name": "stderr",
     "output_type": "stream",
     "text": [
      "100%|██████████| 10000/10000 [00:22<00:00, 434.80it/s]\n"
     ]
    },
    {
     "name": "stdout",
     "output_type": "stream",
     "text": [
      "f0_samples_train shape (64, 13500)\n",
      "eps_sample shape (64, 13500)\n"
     ]
    },
    {
     "name": "stderr",
     "output_type": "stream",
     "text": [
      "100%|██████████| 10000/10000 [00:25<00:00, 398.23it/s]\n"
     ]
    },
    {
     "name": "stdout",
     "output_type": "stream",
     "text": [
      "alpha_samples :  (64, 13500)\n"
     ]
    },
    {
     "name": "stderr",
     "output_type": "stream",
     "text": [
      "100%|██████████| 10000/10000 [00:22<00:00, 445.98it/s]\n"
     ]
    },
    {
     "name": "stdout",
     "output_type": "stream",
     "text": [
      "f0_samples_train shape (64, 13500)\n",
      "eps_sample shape (64, 13500)\n"
     ]
    },
    {
     "name": "stderr",
     "output_type": "stream",
     "text": [
      "100%|██████████| 10000/10000 [00:25<00:00, 396.38it/s]\n"
     ]
    },
    {
     "name": "stdout",
     "output_type": "stream",
     "text": [
      "alpha_samples :  (64, 13500)\n"
     ]
    },
    {
     "name": "stderr",
     "output_type": "stream",
     "text": [
      "100%|██████████| 10000/10000 [00:22<00:00, 444.61it/s]\n"
     ]
    },
    {
     "name": "stdout",
     "output_type": "stream",
     "text": [
      "f0_samples_train shape (64, 13500)\n",
      "eps_sample shape (64, 13500)\n"
     ]
    },
    {
     "name": "stderr",
     "output_type": "stream",
     "text": [
      "100%|██████████| 10000/10000 [00:25<00:00, 387.73it/s]\n"
     ]
    },
    {
     "name": "stdout",
     "output_type": "stream",
     "text": [
      "alpha_samples :  (64, 13500)\n"
     ]
    },
    {
     "name": "stderr",
     "output_type": "stream",
     "text": [
      "100%|██████████| 10000/10000 [00:22<00:00, 440.72it/s]\n"
     ]
    },
    {
     "name": "stdout",
     "output_type": "stream",
     "text": [
      "f0_samples_train shape (64, 13500)\n",
      "eps_sample shape (64, 13500)\n"
     ]
    },
    {
     "name": "stderr",
     "output_type": "stream",
     "text": [
      "100%|██████████| 10000/10000 [00:27<00:00, 366.09it/s]\n"
     ]
    },
    {
     "name": "stdout",
     "output_type": "stream",
     "text": [
      "alpha_samples :  (64, 13500)\n"
     ]
    },
    {
     "name": "stderr",
     "output_type": "stream",
     "text": [
      "100%|██████████| 10000/10000 [00:22<00:00, 440.25it/s]\n"
     ]
    },
    {
     "name": "stdout",
     "output_type": "stream",
     "text": [
      "f0_samples_train shape (64, 13500)\n",
      "eps_sample shape (64, 13500)\n"
     ]
    },
    {
     "name": "stderr",
     "output_type": "stream",
     "text": [
      "100%|██████████| 10000/10000 [00:25<00:00, 388.76it/s]\n"
     ]
    },
    {
     "name": "stdout",
     "output_type": "stream",
     "text": [
      "alpha_samples :  (64, 13500)\n"
     ]
    },
    {
     "name": "stderr",
     "output_type": "stream",
     "text": [
      "100%|██████████| 10000/10000 [00:23<00:00, 426.53it/s]\n"
     ]
    },
    {
     "name": "stdout",
     "output_type": "stream",
     "text": [
      "f0_samples_train shape (64, 13500)\n",
      "eps_sample shape (64, 13500)\n"
     ]
    },
    {
     "name": "stderr",
     "output_type": "stream",
     "text": [
      "100%|██████████| 10000/10000 [00:25<00:00, 387.50it/s]\n"
     ]
    },
    {
     "name": "stdout",
     "output_type": "stream",
     "text": [
      "alpha_samples :  (64, 13500)\n"
     ]
    },
    {
     "name": "stderr",
     "output_type": "stream",
     "text": [
      "100%|██████████| 10000/10000 [00:22<00:00, 445.54it/s]\n"
     ]
    },
    {
     "name": "stdout",
     "output_type": "stream",
     "text": [
      "f0_samples_train shape (64, 13500)\n",
      "eps_sample shape (64, 13500)\n"
     ]
    },
    {
     "name": "stderr",
     "output_type": "stream",
     "text": [
      "100%|██████████| 10000/10000 [00:25<00:00, 399.39it/s]\n"
     ]
    },
    {
     "name": "stdout",
     "output_type": "stream",
     "text": [
      "alpha_samples :  (64, 13500)\n"
     ]
    },
    {
     "name": "stderr",
     "output_type": "stream",
     "text": [
      "100%|██████████| 10000/10000 [00:22<00:00, 446.21it/s]\n"
     ]
    },
    {
     "name": "stdout",
     "output_type": "stream",
     "text": [
      "f0_samples_train shape (64, 13500)\n",
      "eps_sample shape (64, 13500)\n"
     ]
    },
    {
     "name": "stderr",
     "output_type": "stream",
     "text": [
      "100%|██████████| 10000/10000 [00:25<00:00, 392.89it/s]\n"
     ]
    },
    {
     "name": "stdout",
     "output_type": "stream",
     "text": [
      "alpha_samples :  (64, 13500)\n"
     ]
    },
    {
     "name": "stderr",
     "output_type": "stream",
     "text": [
      "100%|██████████| 10000/10000 [00:22<00:00, 441.22it/s]\n"
     ]
    },
    {
     "name": "stdout",
     "output_type": "stream",
     "text": [
      "f0_samples_train shape (64, 13500)\n",
      "eps_sample shape (64, 13500)\n"
     ]
    },
    {
     "name": "stderr",
     "output_type": "stream",
     "text": [
      "100%|██████████| 10000/10000 [00:25<00:00, 391.70it/s]\n"
     ]
    },
    {
     "name": "stdout",
     "output_type": "stream",
     "text": [
      "alpha_samples :  (64, 13500)\n"
     ]
    },
    {
     "name": "stderr",
     "output_type": "stream",
     "text": [
      "100%|██████████| 10000/10000 [00:22<00:00, 446.83it/s]\n"
     ]
    },
    {
     "name": "stdout",
     "output_type": "stream",
     "text": [
      "f0_samples_train shape (64, 13500)\n",
      "eps_sample shape (64, 13500)\n"
     ]
    },
    {
     "name": "stderr",
     "output_type": "stream",
     "text": [
      "100%|██████████| 10000/10000 [00:25<00:00, 392.67it/s]\n"
     ]
    },
    {
     "name": "stdout",
     "output_type": "stream",
     "text": [
      "alpha_samples :  (64, 13500)\n"
     ]
    },
    {
     "name": "stderr",
     "output_type": "stream",
     "text": [
      "100%|██████████| 10000/10000 [00:22<00:00, 446.96it/s]\n"
     ]
    },
    {
     "name": "stdout",
     "output_type": "stream",
     "text": [
      "f0_samples_train shape (64, 13500)\n",
      "eps_sample shape (64, 13500)\n"
     ]
    },
    {
     "name": "stderr",
     "output_type": "stream",
     "text": [
      "100%|██████████| 10000/10000 [00:25<00:00, 386.70it/s]\n"
     ]
    },
    {
     "name": "stdout",
     "output_type": "stream",
     "text": [
      "alpha_samples :  (64, 13500)\n"
     ]
    },
    {
     "name": "stderr",
     "output_type": "stream",
     "text": [
      "100%|██████████| 10000/10000 [00:22<00:00, 445.44it/s]\n"
     ]
    },
    {
     "name": "stdout",
     "output_type": "stream",
     "text": [
      "f0_samples_train shape (64, 13500)\n",
      "eps_sample shape (64, 13500)\n"
     ]
    },
    {
     "name": "stderr",
     "output_type": "stream",
     "text": [
      "100%|██████████| 10000/10000 [00:28<00:00, 355.43it/s]\n"
     ]
    },
    {
     "name": "stdout",
     "output_type": "stream",
     "text": [
      "alpha_samples :  (64, 13500)\n"
     ]
    },
    {
     "name": "stderr",
     "output_type": "stream",
     "text": [
      "100%|██████████| 10000/10000 [00:22<00:00, 440.98it/s]\n"
     ]
    },
    {
     "name": "stdout",
     "output_type": "stream",
     "text": [
      "f0_samples_train shape (64, 13500)\n",
      "eps_sample shape (64, 13500)\n"
     ]
    },
    {
     "name": "stderr",
     "output_type": "stream",
     "text": [
      "100%|██████████| 10000/10000 [00:26<00:00, 383.97it/s]\n"
     ]
    },
    {
     "name": "stdout",
     "output_type": "stream",
     "text": [
      "alpha_samples :  (64, 13500)\n"
     ]
    },
    {
     "name": "stderr",
     "output_type": "stream",
     "text": [
      "100%|██████████| 10000/10000 [00:22<00:00, 442.61it/s]\n"
     ]
    },
    {
     "name": "stdout",
     "output_type": "stream",
     "text": [
      "f0_samples_train shape (64, 13500)\n",
      "eps_sample shape (64, 13500)\n"
     ]
    },
    {
     "name": "stderr",
     "output_type": "stream",
     "text": [
      "100%|██████████| 10000/10000 [00:25<00:00, 390.86it/s]\n"
     ]
    },
    {
     "name": "stdout",
     "output_type": "stream",
     "text": [
      "alpha_samples :  (64, 13500)\n"
     ]
    },
    {
     "name": "stderr",
     "output_type": "stream",
     "text": [
      "100%|██████████| 10000/10000 [00:22<00:00, 439.56it/s]\n"
     ]
    },
    {
     "name": "stdout",
     "output_type": "stream",
     "text": [
      "f0_samples_train shape (64, 13500)\n",
      "eps_sample shape (64, 13500)\n"
     ]
    },
    {
     "name": "stderr",
     "output_type": "stream",
     "text": [
      "100%|██████████| 10000/10000 [00:25<00:00, 389.69it/s]\n"
     ]
    },
    {
     "name": "stdout",
     "output_type": "stream",
     "text": [
      "alpha_samples :  (64, 13500)\n"
     ]
    },
    {
     "name": "stderr",
     "output_type": "stream",
     "text": [
      "100%|██████████| 10000/10000 [00:22<00:00, 443.98it/s]\n"
     ]
    },
    {
     "name": "stdout",
     "output_type": "stream",
     "text": [
      "f0_samples_train shape (64, 13500)\n",
      "eps_sample shape (64, 13500)\n"
     ]
    },
    {
     "name": "stderr",
     "output_type": "stream",
     "text": [
      "100%|██████████| 10000/10000 [00:25<00:00, 385.72it/s]\n"
     ]
    },
    {
     "name": "stdout",
     "output_type": "stream",
     "text": [
      "alpha_samples :  (64, 13500)\n"
     ]
    },
    {
     "name": "stderr",
     "output_type": "stream",
     "text": [
      "100%|██████████| 10000/10000 [00:22<00:00, 442.40it/s]\n"
     ]
    },
    {
     "name": "stdout",
     "output_type": "stream",
     "text": [
      "f0_samples_train shape (64, 13500)\n",
      "eps_sample shape (64, 13500)\n"
     ]
    },
    {
     "name": "stderr",
     "output_type": "stream",
     "text": [
      "100%|██████████| 10000/10000 [00:25<00:00, 388.38it/s]\n"
     ]
    },
    {
     "name": "stdout",
     "output_type": "stream",
     "text": [
      "alpha_samples :  (64, 13500)\n"
     ]
    },
    {
     "name": "stderr",
     "output_type": "stream",
     "text": [
      "100%|██████████| 10000/10000 [00:22<00:00, 442.42it/s]\n"
     ]
    },
    {
     "name": "stdout",
     "output_type": "stream",
     "text": [
      "f0_samples_train shape (64, 13500)\n",
      "eps_sample shape (64, 13500)\n"
     ]
    },
    {
     "name": "stderr",
     "output_type": "stream",
     "text": [
      "100%|██████████| 10000/10000 [00:25<00:00, 390.85it/s]\n"
     ]
    },
    {
     "name": "stdout",
     "output_type": "stream",
     "text": [
      "alpha_samples :  (64, 13500)\n"
     ]
    },
    {
     "name": "stderr",
     "output_type": "stream",
     "text": [
      "100%|██████████| 10000/10000 [00:22<00:00, 439.61it/s]\n"
     ]
    },
    {
     "name": "stdout",
     "output_type": "stream",
     "text": [
      "f0_samples_train shape (64, 13500)\n",
      "eps_sample shape (64, 13500)\n"
     ]
    },
    {
     "name": "stderr",
     "output_type": "stream",
     "text": [
      "100%|██████████| 10000/10000 [00:25<00:00, 393.91it/s]\n"
     ]
    },
    {
     "name": "stdout",
     "output_type": "stream",
     "text": [
      "alpha_samples :  (64, 13500)\n"
     ]
    },
    {
     "name": "stderr",
     "output_type": "stream",
     "text": [
      "100%|██████████| 10000/10000 [00:24<00:00, 416.48it/s]\n"
     ]
    },
    {
     "name": "stdout",
     "output_type": "stream",
     "text": [
      "f0_samples_train shape (64, 13500)\n",
      "eps_sample shape (64, 13500)\n"
     ]
    },
    {
     "name": "stderr",
     "output_type": "stream",
     "text": [
      "100%|██████████| 10000/10000 [00:25<00:00, 390.66it/s]\n"
     ]
    },
    {
     "name": "stdout",
     "output_type": "stream",
     "text": [
      "alpha_samples :  (64, 13500)\n"
     ]
    },
    {
     "name": "stderr",
     "output_type": "stream",
     "text": [
      "100%|██████████| 10000/10000 [00:22<00:00, 442.66it/s]\n"
     ]
    },
    {
     "name": "stdout",
     "output_type": "stream",
     "text": [
      "f0_samples_train shape (64, 13500)\n",
      "eps_sample shape (64, 13500)\n"
     ]
    },
    {
     "name": "stderr",
     "output_type": "stream",
     "text": [
      "100%|██████████| 10000/10000 [00:26<00:00, 378.17it/s]\n"
     ]
    },
    {
     "name": "stdout",
     "output_type": "stream",
     "text": [
      "alpha_samples :  (64, 13500)\n"
     ]
    },
    {
     "name": "stderr",
     "output_type": "stream",
     "text": [
      "100%|██████████| 10000/10000 [00:22<00:00, 444.47it/s]\n"
     ]
    },
    {
     "name": "stdout",
     "output_type": "stream",
     "text": [
      "f0_samples_train shape (64, 13500)\n",
      "eps_sample shape (64, 13500)\n"
     ]
    },
    {
     "name": "stderr",
     "output_type": "stream",
     "text": [
      "100%|██████████| 10000/10000 [00:25<00:00, 393.95it/s]\n"
     ]
    },
    {
     "name": "stdout",
     "output_type": "stream",
     "text": [
      "alpha_samples :  (64, 13500)\n"
     ]
    },
    {
     "name": "stderr",
     "output_type": "stream",
     "text": [
      "100%|██████████| 10000/10000 [00:22<00:00, 446.87it/s]\n"
     ]
    },
    {
     "name": "stdout",
     "output_type": "stream",
     "text": [
      "f0_samples_train shape (64, 13500)\n",
      "eps_sample shape (64, 13500)\n"
     ]
    },
    {
     "name": "stderr",
     "output_type": "stream",
     "text": [
      "100%|██████████| 10000/10000 [00:25<00:00, 395.46it/s]\n"
     ]
    },
    {
     "name": "stdout",
     "output_type": "stream",
     "text": [
      "alpha_samples :  (64, 13500)\n"
     ]
    },
    {
     "name": "stderr",
     "output_type": "stream",
     "text": [
      "100%|██████████| 10000/10000 [00:22<00:00, 443.22it/s]\n"
     ]
    },
    {
     "name": "stdout",
     "output_type": "stream",
     "text": [
      "f0_samples_train shape (64, 13500)\n",
      "eps_sample shape (64, 13500)\n"
     ]
    },
    {
     "name": "stderr",
     "output_type": "stream",
     "text": [
      "100%|██████████| 10000/10000 [00:25<00:00, 386.55it/s]\n"
     ]
    },
    {
     "name": "stdout",
     "output_type": "stream",
     "text": [
      "alpha_samples :  (64, 13500)\n"
     ]
    },
    {
     "name": "stderr",
     "output_type": "stream",
     "text": [
      "100%|██████████| 10000/10000 [00:22<00:00, 442.59it/s]\n"
     ]
    },
    {
     "name": "stdout",
     "output_type": "stream",
     "text": [
      "f0_samples_train shape (64, 13500)\n",
      "eps_sample shape (64, 13500)\n"
     ]
    },
    {
     "name": "stderr",
     "output_type": "stream",
     "text": [
      "100%|██████████| 10000/10000 [00:25<00:00, 395.30it/s]\n"
     ]
    },
    {
     "name": "stdout",
     "output_type": "stream",
     "text": [
      "alpha_samples :  (64, 13500)\n"
     ]
    },
    {
     "name": "stderr",
     "output_type": "stream",
     "text": [
      "100%|██████████| 10000/10000 [00:22<00:00, 445.21it/s]\n"
     ]
    },
    {
     "name": "stdout",
     "output_type": "stream",
     "text": [
      "f0_samples_train shape (64, 13500)\n",
      "eps_sample shape (64, 13500)\n"
     ]
    },
    {
     "name": "stderr",
     "output_type": "stream",
     "text": [
      "100%|██████████| 10000/10000 [00:25<00:00, 398.82it/s]\n"
     ]
    },
    {
     "name": "stdout",
     "output_type": "stream",
     "text": [
      "alpha_samples :  (64, 13500)\n"
     ]
    },
    {
     "name": "stderr",
     "output_type": "stream",
     "text": [
      "100%|██████████| 10000/10000 [00:22<00:00, 445.62it/s]\n"
     ]
    },
    {
     "name": "stdout",
     "output_type": "stream",
     "text": [
      "f0_samples_train shape (64, 13500)\n",
      "eps_sample shape (64, 13500)\n"
     ]
    },
    {
     "name": "stderr",
     "output_type": "stream",
     "text": [
      "100%|██████████| 10000/10000 [00:25<00:00, 391.60it/s]\n"
     ]
    },
    {
     "name": "stdout",
     "output_type": "stream",
     "text": [
      "alpha_samples :  (64, 13500)\n"
     ]
    },
    {
     "name": "stderr",
     "output_type": "stream",
     "text": [
      "100%|██████████| 10000/10000 [00:22<00:00, 444.92it/s]\n"
     ]
    },
    {
     "name": "stdout",
     "output_type": "stream",
     "text": [
      "f0_samples_train shape (64, 13500)\n",
      "eps_sample shape (64, 13500)\n"
     ]
    },
    {
     "name": "stderr",
     "output_type": "stream",
     "text": [
      "100%|██████████| 10000/10000 [00:26<00:00, 383.37it/s]\n"
     ]
    },
    {
     "name": "stdout",
     "output_type": "stream",
     "text": [
      "alpha_samples :  (64, 13500)\n"
     ]
    },
    {
     "name": "stderr",
     "output_type": "stream",
     "text": [
      "100%|██████████| 10000/10000 [00:22<00:00, 443.07it/s]\n"
     ]
    },
    {
     "name": "stdout",
     "output_type": "stream",
     "text": [
      "f0_samples_train shape (64, 13500)\n",
      "eps_sample shape (64, 13500)\n"
     ]
    },
    {
     "name": "stderr",
     "output_type": "stream",
     "text": [
      "100%|██████████| 10000/10000 [00:25<00:00, 394.88it/s]\n"
     ]
    },
    {
     "name": "stdout",
     "output_type": "stream",
     "text": [
      "alpha_samples :  (64, 13500)\n"
     ]
    },
    {
     "name": "stderr",
     "output_type": "stream",
     "text": [
      "100%|██████████| 10000/10000 [00:23<00:00, 417.10it/s]\n"
     ]
    },
    {
     "name": "stdout",
     "output_type": "stream",
     "text": [
      "f0_samples_train shape (64, 13500)\n",
      "eps_sample shape (64, 13500)\n"
     ]
    },
    {
     "name": "stderr",
     "output_type": "stream",
     "text": [
      "100%|██████████| 10000/10000 [00:25<00:00, 386.41it/s]\n"
     ]
    },
    {
     "name": "stdout",
     "output_type": "stream",
     "text": [
      "alpha_samples :  (64, 13500)\n"
     ]
    },
    {
     "name": "stderr",
     "output_type": "stream",
     "text": [
      "100%|██████████| 10000/10000 [00:22<00:00, 444.38it/s]\n"
     ]
    },
    {
     "name": "stdout",
     "output_type": "stream",
     "text": [
      "f0_samples_train shape (64, 13500)\n",
      "eps_sample shape (64, 13500)\n"
     ]
    },
    {
     "name": "stderr",
     "output_type": "stream",
     "text": [
      "100%|██████████| 10000/10000 [00:25<00:00, 395.75it/s]\n"
     ]
    },
    {
     "name": "stdout",
     "output_type": "stream",
     "text": [
      "alpha_samples :  (64, 13500)\n"
     ]
    },
    {
     "name": "stderr",
     "output_type": "stream",
     "text": [
      "100%|██████████| 10000/10000 [00:22<00:00, 441.93it/s]\n"
     ]
    },
    {
     "name": "stdout",
     "output_type": "stream",
     "text": [
      "f0_samples_train shape (64, 13500)\n",
      "eps_sample shape (64, 13500)\n"
     ]
    },
    {
     "name": "stderr",
     "output_type": "stream",
     "text": [
      "100%|██████████| 10000/10000 [00:25<00:00, 389.79it/s]\n"
     ]
    },
    {
     "name": "stdout",
     "output_type": "stream",
     "text": [
      "alpha_samples :  (64, 13500)\n"
     ]
    },
    {
     "name": "stderr",
     "output_type": "stream",
     "text": [
      "100%|██████████| 10000/10000 [00:22<00:00, 444.65it/s]\n"
     ]
    },
    {
     "name": "stdout",
     "output_type": "stream",
     "text": [
      "f0_samples_train shape (64, 13500)\n",
      "eps_sample shape (64, 13500)\n"
     ]
    },
    {
     "name": "stderr",
     "output_type": "stream",
     "text": [
      "100%|██████████| 10000/10000 [00:25<00:00, 389.55it/s]\n"
     ]
    },
    {
     "name": "stdout",
     "output_type": "stream",
     "text": [
      "alpha_samples :  (64, 13500)\n"
     ]
    },
    {
     "name": "stderr",
     "output_type": "stream",
     "text": [
      "100%|██████████| 10000/10000 [00:22<00:00, 444.80it/s]\n"
     ]
    },
    {
     "name": "stdout",
     "output_type": "stream",
     "text": [
      "f0_samples_train shape (64, 13500)\n",
      "eps_sample shape (64, 13500)\n"
     ]
    },
    {
     "name": "stderr",
     "output_type": "stream",
     "text": [
      "100%|██████████| 10000/10000 [00:25<00:00, 389.19it/s]\n"
     ]
    },
    {
     "name": "stdout",
     "output_type": "stream",
     "text": [
      "alpha_samples :  (64, 13500)\n"
     ]
    },
    {
     "name": "stderr",
     "output_type": "stream",
     "text": [
      "100%|██████████| 10000/10000 [00:22<00:00, 444.40it/s]\n"
     ]
    },
    {
     "name": "stdout",
     "output_type": "stream",
     "text": [
      "f0_samples_train shape (64, 13500)\n",
      "eps_sample shape (64, 13500)\n"
     ]
    },
    {
     "name": "stderr",
     "output_type": "stream",
     "text": [
      "100%|██████████| 10000/10000 [00:27<00:00, 370.27it/s]\n"
     ]
    },
    {
     "name": "stdout",
     "output_type": "stream",
     "text": [
      "alpha_samples :  (64, 13500)\n"
     ]
    },
    {
     "name": "stderr",
     "output_type": "stream",
     "text": [
      "100%|██████████| 10000/10000 [00:22<00:00, 442.79it/s]\n"
     ]
    },
    {
     "name": "stdout",
     "output_type": "stream",
     "text": [
      "f0_samples_train shape (64, 13500)\n",
      "eps_sample shape (64, 13500)\n"
     ]
    },
    {
     "name": "stderr",
     "output_type": "stream",
     "text": [
      "100%|██████████| 10000/10000 [00:26<00:00, 372.28it/s]\n"
     ]
    },
    {
     "name": "stdout",
     "output_type": "stream",
     "text": [
      "alpha_samples :  (64, 13500)\n"
     ]
    },
    {
     "name": "stderr",
     "output_type": "stream",
     "text": [
      "100%|██████████| 10000/10000 [00:22<00:00, 441.41it/s]\n"
     ]
    },
    {
     "name": "stdout",
     "output_type": "stream",
     "text": [
      "f0_samples_train shape (64, 13500)\n",
      "eps_sample shape (64, 13500)\n"
     ]
    },
    {
     "name": "stderr",
     "output_type": "stream",
     "text": [
      "100%|██████████| 10000/10000 [00:25<00:00, 397.08it/s]\n"
     ]
    },
    {
     "name": "stdout",
     "output_type": "stream",
     "text": [
      "alpha_samples :  (64, 13500)\n"
     ]
    },
    {
     "name": "stderr",
     "output_type": "stream",
     "text": [
      "100%|██████████| 10000/10000 [00:22<00:00, 440.74it/s]\n"
     ]
    },
    {
     "name": "stdout",
     "output_type": "stream",
     "text": [
      "f0_samples_train shape (64, 13500)\n",
      "eps_sample shape (64, 13500)\n"
     ]
    },
    {
     "name": "stderr",
     "output_type": "stream",
     "text": [
      "100%|██████████| 10000/10000 [00:25<00:00, 394.75it/s]\n"
     ]
    },
    {
     "name": "stdout",
     "output_type": "stream",
     "text": [
      "alpha_samples :  (64, 13500)\n"
     ]
    },
    {
     "name": "stderr",
     "output_type": "stream",
     "text": [
      "100%|██████████| 10000/10000 [00:22<00:00, 444.37it/s]\n"
     ]
    },
    {
     "name": "stdout",
     "output_type": "stream",
     "text": [
      "f0_samples_train shape (64, 13500)\n",
      "eps_sample shape (64, 13500)\n"
     ]
    },
    {
     "name": "stderr",
     "output_type": "stream",
     "text": [
      "100%|██████████| 10000/10000 [00:25<00:00, 385.80it/s]\n"
     ]
    },
    {
     "name": "stdout",
     "output_type": "stream",
     "text": [
      "alpha_samples :  (64, 13500)\n"
     ]
    },
    {
     "name": "stderr",
     "output_type": "stream",
     "text": [
      "100%|██████████| 10000/10000 [00:22<00:00, 443.50it/s]\n"
     ]
    },
    {
     "name": "stdout",
     "output_type": "stream",
     "text": [
      "f0_samples_train shape (64, 13500)\n",
      "eps_sample shape (64, 13500)\n"
     ]
    },
    {
     "name": "stderr",
     "output_type": "stream",
     "text": [
      "100%|██████████| 10000/10000 [00:25<00:00, 391.68it/s]\n"
     ]
    },
    {
     "name": "stdout",
     "output_type": "stream",
     "text": [
      "alpha_samples :  (64, 13500)\n"
     ]
    },
    {
     "name": "stderr",
     "output_type": "stream",
     "text": [
      "100%|██████████| 10000/10000 [00:22<00:00, 441.64it/s]\n"
     ]
    },
    {
     "name": "stdout",
     "output_type": "stream",
     "text": [
      "f0_samples_train shape (64, 13500)\n",
      "eps_sample shape (64, 13500)\n"
     ]
    },
    {
     "name": "stderr",
     "output_type": "stream",
     "text": [
      "100%|██████████| 10000/10000 [00:25<00:00, 391.49it/s]\n"
     ]
    },
    {
     "name": "stdout",
     "output_type": "stream",
     "text": [
      "alpha_samples :  (64, 13500)\n"
     ]
    },
    {
     "name": "stderr",
     "output_type": "stream",
     "text": [
      "100%|██████████| 10000/10000 [00:24<00:00, 406.37it/s]\n"
     ]
    },
    {
     "name": "stdout",
     "output_type": "stream",
     "text": [
      "f0_samples_train shape (64, 13500)\n",
      "eps_sample shape (64, 13500)\n"
     ]
    },
    {
     "name": "stderr",
     "output_type": "stream",
     "text": [
      "100%|██████████| 10000/10000 [00:25<00:00, 390.29it/s]\n"
     ]
    },
    {
     "name": "stdout",
     "output_type": "stream",
     "text": [
      "alpha_samples :  (64, 13500)\n"
     ]
    },
    {
     "name": "stderr",
     "output_type": "stream",
     "text": [
      "100%|██████████| 10000/10000 [00:22<00:00, 443.23it/s]\n"
     ]
    },
    {
     "name": "stdout",
     "output_type": "stream",
     "text": [
      "f0_samples_train shape (64, 13500)\n",
      "eps_sample shape (64, 13500)\n"
     ]
    },
    {
     "name": "stderr",
     "output_type": "stream",
     "text": [
      "100%|██████████| 10000/10000 [00:25<00:00, 393.86it/s]\n"
     ]
    },
    {
     "name": "stdout",
     "output_type": "stream",
     "text": [
      "alpha_samples :  (64, 13500)\n"
     ]
    },
    {
     "name": "stderr",
     "output_type": "stream",
     "text": [
      "100%|██████████| 10000/10000 [00:22<00:00, 445.50it/s]\n"
     ]
    },
    {
     "name": "stdout",
     "output_type": "stream",
     "text": [
      "f0_samples_train shape (64, 13500)\n",
      "eps_sample shape (64, 13500)\n"
     ]
    },
    {
     "name": "stderr",
     "output_type": "stream",
     "text": [
      "100%|██████████| 10000/10000 [00:25<00:00, 392.21it/s]\n"
     ]
    },
    {
     "name": "stdout",
     "output_type": "stream",
     "text": [
      "alpha_samples :  (64, 13500)\n"
     ]
    },
    {
     "name": "stderr",
     "output_type": "stream",
     "text": [
      "100%|██████████| 10000/10000 [00:22<00:00, 443.35it/s]\n"
     ]
    },
    {
     "name": "stdout",
     "output_type": "stream",
     "text": [
      "f0_samples_train shape (64, 13500)\n",
      "eps_sample shape (64, 13500)\n"
     ]
    },
    {
     "name": "stderr",
     "output_type": "stream",
     "text": [
      "100%|██████████| 10000/10000 [00:25<00:00, 388.96it/s]\n"
     ]
    },
    {
     "name": "stdout",
     "output_type": "stream",
     "text": [
      "alpha_samples :  (64, 13500)\n"
     ]
    },
    {
     "name": "stderr",
     "output_type": "stream",
     "text": [
      "100%|██████████| 10000/10000 [00:22<00:00, 442.71it/s]\n"
     ]
    },
    {
     "name": "stdout",
     "output_type": "stream",
     "text": [
      "f0_samples_train shape (64, 13500)\n",
      "eps_sample shape (64, 13500)\n"
     ]
    },
    {
     "name": "stderr",
     "output_type": "stream",
     "text": [
      "100%|██████████| 10000/10000 [00:25<00:00, 391.80it/s]\n"
     ]
    },
    {
     "name": "stdout",
     "output_type": "stream",
     "text": [
      "alpha_samples :  (64, 13500)\n"
     ]
    },
    {
     "name": "stderr",
     "output_type": "stream",
     "text": [
      "100%|██████████| 10000/10000 [00:22<00:00, 443.13it/s]\n"
     ]
    },
    {
     "name": "stdout",
     "output_type": "stream",
     "text": [
      "f0_samples_train shape (64, 13500)\n",
      "eps_sample shape (64, 13500)\n"
     ]
    },
    {
     "name": "stderr",
     "output_type": "stream",
     "text": [
      "100%|██████████| 10000/10000 [00:25<00:00, 390.09it/s]\n"
     ]
    },
    {
     "name": "stdout",
     "output_type": "stream",
     "text": [
      "alpha_samples :  (64, 13500)\n"
     ]
    },
    {
     "name": "stderr",
     "output_type": "stream",
     "text": [
      "100%|██████████| 10000/10000 [00:22<00:00, 447.17it/s]\n"
     ]
    },
    {
     "name": "stdout",
     "output_type": "stream",
     "text": [
      "f0_samples_train shape (64, 13500)\n",
      "eps_sample shape (64, 13500)\n"
     ]
    },
    {
     "name": "stderr",
     "output_type": "stream",
     "text": [
      "100%|██████████| 10000/10000 [00:25<00:00, 395.33it/s]\n"
     ]
    },
    {
     "name": "stdout",
     "output_type": "stream",
     "text": [
      "alpha_samples :  (64, 13500)\n"
     ]
    },
    {
     "name": "stderr",
     "output_type": "stream",
     "text": [
      "100%|██████████| 10000/10000 [00:22<00:00, 441.85it/s]\n"
     ]
    },
    {
     "name": "stdout",
     "output_type": "stream",
     "text": [
      "f0_samples_train shape (64, 13500)\n",
      "eps_sample shape (64, 13500)\n"
     ]
    },
    {
     "name": "stderr",
     "output_type": "stream",
     "text": [
      "100%|██████████| 10000/10000 [00:25<00:00, 389.25it/s]\n"
     ]
    },
    {
     "name": "stdout",
     "output_type": "stream",
     "text": [
      "alpha_samples :  (64, 13500)\n"
     ]
    },
    {
     "name": "stderr",
     "output_type": "stream",
     "text": [
      "100%|██████████| 10000/10000 [00:22<00:00, 440.34it/s]\n"
     ]
    },
    {
     "name": "stdout",
     "output_type": "stream",
     "text": [
      "f0_samples_train shape (64, 13500)\n",
      "eps_sample shape (64, 13500)\n"
     ]
    },
    {
     "name": "stderr",
     "output_type": "stream",
     "text": [
      "100%|██████████| 10000/10000 [00:26<00:00, 374.31it/s]\n"
     ]
    },
    {
     "name": "stdout",
     "output_type": "stream",
     "text": [
      "alpha_samples :  (64, 13500)\n"
     ]
    },
    {
     "name": "stderr",
     "output_type": "stream",
     "text": [
      "100%|██████████| 10000/10000 [00:22<00:00, 445.64it/s]\n"
     ]
    },
    {
     "name": "stdout",
     "output_type": "stream",
     "text": [
      "f0_samples_train shape (64, 13500)\n",
      "eps_sample shape (64, 13500)\n"
     ]
    },
    {
     "name": "stderr",
     "output_type": "stream",
     "text": [
      "100%|██████████| 10000/10000 [00:25<00:00, 393.01it/s]\n"
     ]
    },
    {
     "name": "stdout",
     "output_type": "stream",
     "text": [
      "alpha_samples :  (64, 13500)\n"
     ]
    },
    {
     "name": "stderr",
     "output_type": "stream",
     "text": [
      "100%|██████████| 10000/10000 [00:22<00:00, 450.21it/s]\n"
     ]
    },
    {
     "name": "stdout",
     "output_type": "stream",
     "text": [
      "f0_samples_train shape (64, 13500)\n",
      "eps_sample shape (64, 13500)\n"
     ]
    },
    {
     "name": "stderr",
     "output_type": "stream",
     "text": [
      "100%|██████████| 10000/10000 [00:25<00:00, 388.90it/s]\n"
     ]
    },
    {
     "name": "stdout",
     "output_type": "stream",
     "text": [
      "alpha_samples :  (64, 13500)\n"
     ]
    },
    {
     "name": "stderr",
     "output_type": "stream",
     "text": [
      "100%|██████████| 10000/10000 [00:22<00:00, 442.11it/s]\n"
     ]
    },
    {
     "name": "stdout",
     "output_type": "stream",
     "text": [
      "f0_samples_train shape (64, 13500)\n",
      "eps_sample shape (64, 13500)\n"
     ]
    },
    {
     "name": "stderr",
     "output_type": "stream",
     "text": [
      "100%|██████████| 10000/10000 [00:25<00:00, 389.54it/s]\n"
     ]
    },
    {
     "name": "stdout",
     "output_type": "stream",
     "text": [
      "alpha_samples :  (64, 13500)\n"
     ]
    },
    {
     "name": "stderr",
     "output_type": "stream",
     "text": [
      "100%|██████████| 10000/10000 [00:22<00:00, 443.59it/s]\n"
     ]
    },
    {
     "name": "stdout",
     "output_type": "stream",
     "text": [
      "f0_samples_train shape (64, 13500)\n",
      "eps_sample shape (64, 13500)\n"
     ]
    },
    {
     "name": "stderr",
     "output_type": "stream",
     "text": [
      "100%|██████████| 10000/10000 [00:25<00:00, 389.01it/s]\n"
     ]
    },
    {
     "name": "stdout",
     "output_type": "stream",
     "text": [
      "alpha_samples :  (64, 13500)\n"
     ]
    },
    {
     "name": "stderr",
     "output_type": "stream",
     "text": [
      "100%|██████████| 10000/10000 [00:22<00:00, 441.79it/s]\n"
     ]
    },
    {
     "name": "stdout",
     "output_type": "stream",
     "text": [
      "f0_samples_train shape (64, 13500)\n",
      "eps_sample shape (64, 13500)\n"
     ]
    },
    {
     "name": "stderr",
     "output_type": "stream",
     "text": [
      "100%|██████████| 10000/10000 [00:25<00:00, 386.15it/s]\n"
     ]
    },
    {
     "name": "stdout",
     "output_type": "stream",
     "text": [
      "alpha_samples :  (64, 13500)\n"
     ]
    },
    {
     "name": "stderr",
     "output_type": "stream",
     "text": [
      "100%|██████████| 10000/10000 [00:22<00:00, 447.09it/s]\n"
     ]
    },
    {
     "name": "stdout",
     "output_type": "stream",
     "text": [
      "f0_samples_train shape (64, 13500)\n",
      "eps_sample shape (64, 13500)\n"
     ]
    },
    {
     "name": "stderr",
     "output_type": "stream",
     "text": [
      "100%|██████████| 10000/10000 [00:28<00:00, 353.84it/s]\n"
     ]
    },
    {
     "name": "stdout",
     "output_type": "stream",
     "text": [
      "alpha_samples :  (64, 13500)\n"
     ]
    },
    {
     "name": "stderr",
     "output_type": "stream",
     "text": [
      "100%|██████████| 10000/10000 [00:22<00:00, 445.55it/s]\n"
     ]
    },
    {
     "name": "stdout",
     "output_type": "stream",
     "text": [
      "f0_samples_train shape (64, 13500)\n",
      "eps_sample shape (64, 13500)\n"
     ]
    },
    {
     "name": "stderr",
     "output_type": "stream",
     "text": [
      "100%|██████████| 10000/10000 [00:25<00:00, 389.36it/s]\n"
     ]
    },
    {
     "name": "stdout",
     "output_type": "stream",
     "text": [
      "alpha_samples :  (64, 13500)\n"
     ]
    },
    {
     "name": "stderr",
     "output_type": "stream",
     "text": [
      "100%|██████████| 10000/10000 [00:22<00:00, 442.81it/s]\n"
     ]
    },
    {
     "name": "stdout",
     "output_type": "stream",
     "text": [
      "f0_samples_train shape (64, 13500)\n",
      "eps_sample shape (64, 13500)\n"
     ]
    },
    {
     "name": "stderr",
     "output_type": "stream",
     "text": [
      "100%|██████████| 10000/10000 [00:25<00:00, 388.26it/s]\n"
     ]
    },
    {
     "name": "stdout",
     "output_type": "stream",
     "text": [
      "alpha_samples :  (64, 13500)\n"
     ]
    },
    {
     "name": "stderr",
     "output_type": "stream",
     "text": [
      "100%|██████████| 10000/10000 [00:22<00:00, 444.59it/s]\n"
     ]
    },
    {
     "name": "stdout",
     "output_type": "stream",
     "text": [
      "f0_samples_train shape (64, 13500)\n",
      "eps_sample shape (64, 13500)\n"
     ]
    },
    {
     "name": "stderr",
     "output_type": "stream",
     "text": [
      "100%|██████████| 10000/10000 [00:25<00:00, 389.43it/s]\n"
     ]
    },
    {
     "name": "stdout",
     "output_type": "stream",
     "text": [
      "alpha_samples :  (64, 13500)\n"
     ]
    },
    {
     "name": "stderr",
     "output_type": "stream",
     "text": [
      "100%|██████████| 10000/10000 [00:22<00:00, 442.34it/s]\n"
     ]
    },
    {
     "name": "stdout",
     "output_type": "stream",
     "text": [
      "f0_samples_train shape (64, 13500)\n",
      "eps_sample shape (64, 13500)\n"
     ]
    },
    {
     "name": "stderr",
     "output_type": "stream",
     "text": [
      "100%|██████████| 10000/10000 [00:25<00:00, 387.71it/s]\n"
     ]
    },
    {
     "name": "stdout",
     "output_type": "stream",
     "text": [
      "alpha_samples :  (64, 13500)\n"
     ]
    },
    {
     "name": "stderr",
     "output_type": "stream",
     "text": [
      "100%|██████████| 10000/10000 [00:22<00:00, 446.32it/s]\n"
     ]
    },
    {
     "name": "stdout",
     "output_type": "stream",
     "text": [
      "f0_samples_train shape (64, 13500)\n",
      "eps_sample shape (64, 13500)\n"
     ]
    },
    {
     "name": "stderr",
     "output_type": "stream",
     "text": [
      "100%|██████████| 10000/10000 [00:26<00:00, 380.50it/s]\n"
     ]
    },
    {
     "name": "stdout",
     "output_type": "stream",
     "text": [
      "alpha_samples :  (64, 13500)\n"
     ]
    },
    {
     "name": "stderr",
     "output_type": "stream",
     "text": [
      "100%|██████████| 10000/10000 [00:22<00:00, 449.93it/s]\n"
     ]
    },
    {
     "name": "stdout",
     "output_type": "stream",
     "text": [
      "f0_samples_train shape (64, 13500)\n",
      "eps_sample shape (64, 13500)\n"
     ]
    },
    {
     "name": "stderr",
     "output_type": "stream",
     "text": [
      "100%|██████████| 10000/10000 [00:25<00:00, 390.38it/s]\n"
     ]
    },
    {
     "name": "stdout",
     "output_type": "stream",
     "text": [
      "alpha_samples :  (64, 13500)\n"
     ]
    },
    {
     "name": "stderr",
     "output_type": "stream",
     "text": [
      "100%|██████████| 10000/10000 [00:22<00:00, 441.29it/s]\n"
     ]
    },
    {
     "name": "stdout",
     "output_type": "stream",
     "text": [
      "f0_samples_train shape (64, 13500)\n",
      "eps_sample shape (64, 13500)\n"
     ]
    },
    {
     "name": "stderr",
     "output_type": "stream",
     "text": [
      "100%|██████████| 10000/10000 [00:25<00:00, 387.57it/s]\n"
     ]
    },
    {
     "name": "stdout",
     "output_type": "stream",
     "text": [
      "alpha_samples :  (64, 13500)\n"
     ]
    },
    {
     "name": "stderr",
     "output_type": "stream",
     "text": [
      "100%|██████████| 10000/10000 [00:22<00:00, 445.27it/s]\n"
     ]
    },
    {
     "name": "stdout",
     "output_type": "stream",
     "text": [
      "f0_samples_train shape (64, 13500)\n",
      "eps_sample shape (64, 13500)\n"
     ]
    },
    {
     "name": "stderr",
     "output_type": "stream",
     "text": [
      "100%|██████████| 10000/10000 [00:25<00:00, 395.75it/s]\n"
     ]
    },
    {
     "name": "stdout",
     "output_type": "stream",
     "text": [
      "alpha_samples :  (64, 13500)\n"
     ]
    },
    {
     "name": "stderr",
     "output_type": "stream",
     "text": [
      "100%|██████████| 10000/10000 [00:22<00:00, 439.70it/s]\n"
     ]
    },
    {
     "name": "stdout",
     "output_type": "stream",
     "text": [
      "f0_samples_train shape (64, 13500)\n",
      "eps_sample shape (64, 13500)\n"
     ]
    },
    {
     "name": "stderr",
     "output_type": "stream",
     "text": [
      "100%|██████████| 10000/10000 [00:25<00:00, 396.39it/s]\n"
     ]
    },
    {
     "name": "stdout",
     "output_type": "stream",
     "text": [
      "alpha_samples :  (64, 13500)\n"
     ]
    },
    {
     "name": "stderr",
     "output_type": "stream",
     "text": [
      "100%|██████████| 10000/10000 [00:22<00:00, 447.21it/s]\n"
     ]
    },
    {
     "name": "stdout",
     "output_type": "stream",
     "text": [
      "f0_samples_train shape (64, 13500)\n",
      "eps_sample shape (64, 13500)\n"
     ]
    },
    {
     "name": "stderr",
     "output_type": "stream",
     "text": [
      "100%|██████████| 10000/10000 [00:25<00:00, 395.67it/s]\n"
     ]
    },
    {
     "name": "stdout",
     "output_type": "stream",
     "text": [
      "alpha_samples :  (64, 13500)\n"
     ]
    },
    {
     "name": "stderr",
     "output_type": "stream",
     "text": [
      "100%|██████████| 10000/10000 [00:23<00:00, 433.05it/s]\n"
     ]
    },
    {
     "name": "stdout",
     "output_type": "stream",
     "text": [
      "f0_samples_train shape (64, 13500)\n",
      "eps_sample shape (64, 13500)\n"
     ]
    },
    {
     "name": "stderr",
     "output_type": "stream",
     "text": [
      "100%|██████████| 10000/10000 [00:26<00:00, 383.67it/s]\n"
     ]
    },
    {
     "name": "stdout",
     "output_type": "stream",
     "text": [
      "alpha_samples :  (64, 13500)\n"
     ]
    },
    {
     "name": "stderr",
     "output_type": "stream",
     "text": [
      "100%|██████████| 10000/10000 [00:22<00:00, 440.14it/s]\n"
     ]
    },
    {
     "name": "stdout",
     "output_type": "stream",
     "text": [
      "f0_samples_train shape (64, 13500)\n",
      "eps_sample shape (64, 13500)\n"
     ]
    },
    {
     "name": "stderr",
     "output_type": "stream",
     "text": [
      "100%|██████████| 10000/10000 [00:26<00:00, 371.30it/s]\n"
     ]
    },
    {
     "name": "stdout",
     "output_type": "stream",
     "text": [
      "alpha_samples :  (64, 13500)\n"
     ]
    },
    {
     "name": "stderr",
     "output_type": "stream",
     "text": [
      "100%|██████████| 10000/10000 [00:22<00:00, 444.85it/s]\n"
     ]
    },
    {
     "name": "stdout",
     "output_type": "stream",
     "text": [
      "f0_samples_train shape (64, 13500)\n",
      "eps_sample shape (64, 13500)\n"
     ]
    },
    {
     "name": "stderr",
     "output_type": "stream",
     "text": [
      "100%|██████████| 10000/10000 [00:26<00:00, 379.47it/s]\n"
     ]
    },
    {
     "name": "stdout",
     "output_type": "stream",
     "text": [
      "alpha_samples :  (64, 13500)\n"
     ]
    },
    {
     "name": "stderr",
     "output_type": "stream",
     "text": [
      "100%|██████████| 10000/10000 [00:23<00:00, 433.21it/s]\n"
     ]
    },
    {
     "name": "stdout",
     "output_type": "stream",
     "text": [
      "f0_samples_train shape (64, 13500)\n",
      "eps_sample shape (64, 13500)\n"
     ]
    },
    {
     "name": "stderr",
     "output_type": "stream",
     "text": [
      "100%|██████████| 10000/10000 [00:25<00:00, 386.60it/s]\n"
     ]
    },
    {
     "name": "stdout",
     "output_type": "stream",
     "text": [
      "alpha_samples :  (64, 13500)\n"
     ]
    },
    {
     "name": "stderr",
     "output_type": "stream",
     "text": [
      "100%|██████████| 10000/10000 [00:22<00:00, 438.32it/s]\n"
     ]
    },
    {
     "name": "stdout",
     "output_type": "stream",
     "text": [
      "f0_samples_train shape (64, 13500)\n",
      "eps_sample shape (64, 13500)\n"
     ]
    },
    {
     "name": "stderr",
     "output_type": "stream",
     "text": [
      "100%|██████████| 10000/10000 [00:25<00:00, 393.61it/s]\n"
     ]
    },
    {
     "name": "stdout",
     "output_type": "stream",
     "text": [
      "alpha_samples :  (64, 13500)\n"
     ]
    },
    {
     "name": "stderr",
     "output_type": "stream",
     "text": [
      "100%|██████████| 10000/10000 [00:22<00:00, 445.00it/s]\n"
     ]
    },
    {
     "name": "stdout",
     "output_type": "stream",
     "text": [
      "f0_samples_train shape (64, 13500)\n",
      "eps_sample shape (64, 13500)\n"
     ]
    },
    {
     "name": "stderr",
     "output_type": "stream",
     "text": [
      "100%|██████████| 10000/10000 [00:25<00:00, 389.25it/s]\n"
     ]
    },
    {
     "name": "stdout",
     "output_type": "stream",
     "text": [
      "alpha_samples :  (64, 13500)\n"
     ]
    },
    {
     "name": "stderr",
     "output_type": "stream",
     "text": [
      "100%|██████████| 10000/10000 [00:22<00:00, 442.99it/s]\n"
     ]
    },
    {
     "name": "stdout",
     "output_type": "stream",
     "text": [
      "f0_samples_train shape (64, 13500)\n",
      "eps_sample shape (64, 13500)\n"
     ]
    },
    {
     "name": "stderr",
     "output_type": "stream",
     "text": [
      "100%|██████████| 10000/10000 [00:26<00:00, 381.72it/s]\n"
     ]
    },
    {
     "name": "stdout",
     "output_type": "stream",
     "text": [
      "alpha_samples :  (64, 13500)\n"
     ]
    },
    {
     "name": "stderr",
     "output_type": "stream",
     "text": [
      "100%|██████████| 10000/10000 [00:22<00:00, 438.06it/s]\n"
     ]
    },
    {
     "name": "stdout",
     "output_type": "stream",
     "text": [
      "f0_samples_train shape (64, 13500)\n",
      "eps_sample shape (64, 13500)\n"
     ]
    },
    {
     "name": "stderr",
     "output_type": "stream",
     "text": [
      "100%|██████████| 10000/10000 [00:25<00:00, 391.26it/s]\n"
     ]
    },
    {
     "name": "stdout",
     "output_type": "stream",
     "text": [
      "alpha_samples :  (64, 13500)\n"
     ]
    },
    {
     "name": "stderr",
     "output_type": "stream",
     "text": [
      "100%|██████████| 10000/10000 [00:25<00:00, 387.27it/s]\n"
     ]
    },
    {
     "name": "stdout",
     "output_type": "stream",
     "text": [
      "f0_samples_train shape (64, 13500)\n",
      "eps_sample shape (64, 13500)\n"
     ]
    },
    {
     "name": "stderr",
     "output_type": "stream",
     "text": [
      "100%|██████████| 10000/10000 [00:25<00:00, 392.50it/s]\n"
     ]
    },
    {
     "name": "stdout",
     "output_type": "stream",
     "text": [
      "alpha_samples :  (64, 13500)\n"
     ]
    },
    {
     "name": "stderr",
     "output_type": "stream",
     "text": [
      "100%|██████████| 10000/10000 [00:23<00:00, 427.48it/s]\n"
     ]
    },
    {
     "name": "stdout",
     "output_type": "stream",
     "text": [
      "f0_samples_train shape (64, 13500)\n",
      "eps_sample shape (64, 13500)\n"
     ]
    },
    {
     "name": "stderr",
     "output_type": "stream",
     "text": [
      "100%|██████████| 10000/10000 [00:25<00:00, 385.58it/s]\n"
     ]
    },
    {
     "name": "stdout",
     "output_type": "stream",
     "text": [
      "alpha_samples :  (64, 13500)\n"
     ]
    },
    {
     "name": "stderr",
     "output_type": "stream",
     "text": [
      "100%|██████████| 10000/10000 [00:22<00:00, 445.91it/s]\n"
     ]
    },
    {
     "name": "stdout",
     "output_type": "stream",
     "text": [
      "f0_samples_train shape (64, 13500)\n",
      "eps_sample shape (64, 13500)\n"
     ]
    },
    {
     "name": "stderr",
     "output_type": "stream",
     "text": [
      "100%|██████████| 10000/10000 [00:26<00:00, 383.77it/s]\n"
     ]
    },
    {
     "name": "stdout",
     "output_type": "stream",
     "text": [
      "alpha_samples :  (64, 13500)\n"
     ]
    },
    {
     "name": "stderr",
     "output_type": "stream",
     "text": [
      "100%|██████████| 10000/10000 [00:22<00:00, 447.86it/s]\n"
     ]
    },
    {
     "name": "stdout",
     "output_type": "stream",
     "text": [
      "f0_samples_train shape (64, 13500)\n",
      "eps_sample shape (64, 13500)\n"
     ]
    },
    {
     "name": "stderr",
     "output_type": "stream",
     "text": [
      "100%|██████████| 10000/10000 [00:25<00:00, 398.20it/s]\n"
     ]
    },
    {
     "name": "stdout",
     "output_type": "stream",
     "text": [
      "alpha_samples :  (64, 13500)\n"
     ]
    },
    {
     "name": "stderr",
     "output_type": "stream",
     "text": [
      "100%|██████████| 10000/10000 [00:23<00:00, 429.83it/s]\n"
     ]
    },
    {
     "name": "stdout",
     "output_type": "stream",
     "text": [
      "f0_samples_train shape (64, 13500)\n",
      "eps_sample shape (64, 13500)\n"
     ]
    },
    {
     "name": "stderr",
     "output_type": "stream",
     "text": [
      "100%|██████████| 10000/10000 [00:26<00:00, 374.01it/s]\n"
     ]
    },
    {
     "name": "stdout",
     "output_type": "stream",
     "text": [
      "alpha_samples :  (64, 13500)\n"
     ]
    },
    {
     "name": "stderr",
     "output_type": "stream",
     "text": [
      "100%|██████████| 10000/10000 [00:23<00:00, 430.64it/s]\n"
     ]
    },
    {
     "name": "stdout",
     "output_type": "stream",
     "text": [
      "f0_samples_train shape (64, 13500)\n",
      "eps_sample shape (64, 13500)\n"
     ]
    },
    {
     "name": "stderr",
     "output_type": "stream",
     "text": [
      "100%|██████████| 10000/10000 [00:25<00:00, 392.94it/s]\n"
     ]
    },
    {
     "name": "stdout",
     "output_type": "stream",
     "text": [
      "alpha_samples :  (64, 13500)\n"
     ]
    },
    {
     "name": "stderr",
     "output_type": "stream",
     "text": [
      "100%|██████████| 10000/10000 [00:22<00:00, 436.96it/s]\n"
     ]
    },
    {
     "name": "stdout",
     "output_type": "stream",
     "text": [
      "f0_samples_train shape (64, 13500)\n",
      "eps_sample shape (64, 13500)\n"
     ]
    },
    {
     "name": "stderr",
     "output_type": "stream",
     "text": [
      "100%|██████████| 10000/10000 [00:25<00:00, 395.36it/s]\n"
     ]
    },
    {
     "name": "stdout",
     "output_type": "stream",
     "text": [
      "alpha_samples :  (64, 13500)\n"
     ]
    },
    {
     "name": "stderr",
     "output_type": "stream",
     "text": [
      "100%|██████████| 10000/10000 [00:22<00:00, 437.62it/s]\n"
     ]
    },
    {
     "name": "stdout",
     "output_type": "stream",
     "text": [
      "f0_samples_train shape (64, 13500)\n",
      "eps_sample shape (64, 13500)\n"
     ]
    },
    {
     "name": "stderr",
     "output_type": "stream",
     "text": [
      "100%|██████████| 10000/10000 [00:25<00:00, 390.66it/s]\n"
     ]
    },
    {
     "name": "stdout",
     "output_type": "stream",
     "text": [
      "alpha_samples :  (64, 13500)\n"
     ]
    },
    {
     "name": "stderr",
     "output_type": "stream",
     "text": [
      "100%|██████████| 10000/10000 [00:22<00:00, 445.87it/s]\n"
     ]
    },
    {
     "name": "stdout",
     "output_type": "stream",
     "text": [
      "f0_samples_train shape (64, 13500)\n",
      "eps_sample shape (64, 13500)\n"
     ]
    },
    {
     "name": "stderr",
     "output_type": "stream",
     "text": [
      "100%|██████████| 10000/10000 [00:25<00:00, 396.70it/s]\n"
     ]
    },
    {
     "name": "stdout",
     "output_type": "stream",
     "text": [
      "alpha_samples :  (64, 13500)\n"
     ]
    },
    {
     "name": "stderr",
     "output_type": "stream",
     "text": [
      "100%|██████████| 10000/10000 [00:23<00:00, 431.13it/s]\n"
     ]
    },
    {
     "name": "stdout",
     "output_type": "stream",
     "text": [
      "f0_samples_train shape (64, 13500)\n",
      "eps_sample shape (64, 13500)\n"
     ]
    },
    {
     "name": "stderr",
     "output_type": "stream",
     "text": [
      "100%|██████████| 10000/10000 [00:27<00:00, 365.24it/s]\n"
     ]
    },
    {
     "name": "stdout",
     "output_type": "stream",
     "text": [
      "alpha_samples :  (64, 13500)\n"
     ]
    },
    {
     "name": "stderr",
     "output_type": "stream",
     "text": [
      "100%|██████████| 10000/10000 [00:23<00:00, 433.03it/s]\n"
     ]
    },
    {
     "name": "stdout",
     "output_type": "stream",
     "text": [
      "f0_samples_train shape (64, 13500)\n",
      "eps_sample shape (64, 13500)\n"
     ]
    },
    {
     "name": "stderr",
     "output_type": "stream",
     "text": [
      "100%|██████████| 10000/10000 [00:26<00:00, 378.17it/s]\n"
     ]
    },
    {
     "name": "stdout",
     "output_type": "stream",
     "text": [
      "alpha_samples :  (64, 13500)\n"
     ]
    },
    {
     "name": "stderr",
     "output_type": "stream",
     "text": [
      "100%|██████████| 10000/10000 [00:23<00:00, 434.65it/s]\n"
     ]
    },
    {
     "name": "stdout",
     "output_type": "stream",
     "text": [
      "f0_samples_train shape (64, 13500)\n",
      "eps_sample shape (64, 13500)\n"
     ]
    },
    {
     "name": "stderr",
     "output_type": "stream",
     "text": [
      "100%|██████████| 10000/10000 [00:26<00:00, 383.35it/s]\n"
     ]
    },
    {
     "name": "stdout",
     "output_type": "stream",
     "text": [
      "alpha_samples :  (64, 13500)\n"
     ]
    },
    {
     "name": "stderr",
     "output_type": "stream",
     "text": [
      "100%|██████████| 10000/10000 [00:22<00:00, 437.12it/s]\n"
     ]
    },
    {
     "name": "stdout",
     "output_type": "stream",
     "text": [
      "f0_samples_train shape (64, 13500)\n",
      "eps_sample shape (64, 13500)\n"
     ]
    },
    {
     "name": "stderr",
     "output_type": "stream",
     "text": [
      "100%|██████████| 10000/10000 [00:25<00:00, 392.79it/s]\n"
     ]
    },
    {
     "name": "stdout",
     "output_type": "stream",
     "text": [
      "alpha_samples :  (64, 13500)\n"
     ]
    },
    {
     "name": "stderr",
     "output_type": "stream",
     "text": [
      "100%|██████████| 10000/10000 [00:23<00:00, 429.33it/s]\n"
     ]
    },
    {
     "name": "stdout",
     "output_type": "stream",
     "text": [
      "f0_samples_train shape (64, 13500)\n",
      "eps_sample shape (64, 13500)\n"
     ]
    },
    {
     "name": "stderr",
     "output_type": "stream",
     "text": [
      "100%|██████████| 10000/10000 [00:25<00:00, 387.80it/s]\n"
     ]
    },
    {
     "name": "stdout",
     "output_type": "stream",
     "text": [
      "alpha_samples :  (64, 13500)\n"
     ]
    },
    {
     "name": "stderr",
     "output_type": "stream",
     "text": [
      "100%|██████████| 10000/10000 [00:22<00:00, 443.51it/s]\n"
     ]
    },
    {
     "name": "stdout",
     "output_type": "stream",
     "text": [
      "f0_samples_train shape (64, 13500)\n",
      "eps_sample shape (64, 13500)\n"
     ]
    },
    {
     "name": "stderr",
     "output_type": "stream",
     "text": [
      "100%|██████████| 10000/10000 [00:25<00:00, 392.87it/s]\n"
     ]
    },
    {
     "name": "stdout",
     "output_type": "stream",
     "text": [
      "alpha_samples :  (64, 13500)\n"
     ]
    },
    {
     "name": "stderr",
     "output_type": "stream",
     "text": [
      "100%|██████████| 100/100 [1:23:04<00:00, 49.85s/it]\n"
     ]
    }
   ],
   "source": [
    "import optax\n",
    "from scalable_gps.linear_model import mll_exact\n",
    "\n",
    "\n",
    "samples = [64]\n",
    "samples_mll = []\n",
    "for n_samples in samples:\n",
    "\n",
    "    key = jr.PRNGKey(12345)\n",
    "\n",
    "    mll_grad_fn = get_mll_grad_fn(\n",
    "        train_x, train_y, kernel.kernel_fn, kernel.kernel_grad_fn, \"samples\")\n",
    "\n",
    "    optimiser = optax.adam(0.2)\n",
    "\n",
    "    mll_update_fn = get_mll_update_fn(mll_grad_fn, optimiser, 1e-3)\n",
    "\n",
    "    u_hparams = jax.tree_map(jnp.zeros_like, hparams_exact)\n",
    "    u_hparams_polyak = jax.tree_map(jnp.zeros_like, hparams_exact)\n",
    "\n",
    "\n",
    "    opt_state = optimiser.init(u_hparams)\n",
    "    iterations = 100\n",
    "\n",
    "    sample_mll[n_samples] = []\n",
    "    alpha_diffs = []\n",
    "    grad_norms = []\n",
    "    sample_grad_norms = []\n",
    "    alpha_K_diffs = []\n",
    "    all_hparams_samples = []\n",
    "    alpha_map = None\n",
    "    alpha_samples = None\n",
    "    alpha_maps = []\n",
    "    \n",
    "    for i in tqdm(range(iterations)):\n",
    "        hparams = jax.tree_map(jax.nn.softplus, u_hparams)\n",
    "        \n",
    "        # hparams = hparams._replace(noise_scale=0.03686391)\n",
    "        \n",
    "        # Calculate alpha and alpha_samples\n",
    "        K = kernel.kernel_fn(train_x, train_x, hparams.kernel_hparams)\n",
    "        H = K + (hparams.noise_scale ** 2) * jnp.eye(N)\n",
    "        \n",
    "        alpha_map, alpha_diff, grad_norm, alpha_K_diff = get_alpha_map(\n",
    "            train_x, train_y, kernel.kernel_fn, hparams, i, init_alpha=alpha_map,\n",
    "            lr=40., iterations=50000 if i == 0 else 10000, B=512)\n",
    "        \n",
    "        \n",
    "        alpha_maps.append(alpha_map)\n",
    "        alpha_diffs.extend(alpha_diff)\n",
    "        grad_norms.extend(grad_norm)\n",
    "        alpha_K_diffs.extend(alpha_K_diff)\n",
    "        \n",
    "        # print(f'alpha_samples : ', alpha_samples)\n",
    "        \n",
    "        alpha_samples, _, sample_grad_norm, _ = get_alpha_samples(\n",
    "            train_x, train_y, kernel.kernel_fn, kernel.feature_params_fn, kernel.feature_fn, hparams, i,\n",
    "            init_alpha=alpha_samples)\n",
    "        \n",
    "        print(f'alpha_samples : ', alpha_samples.shape)\n",
    "        \n",
    "        sample_grad_norms.extend(sample_grad_norm)\n",
    "        # Pass in alpha_map, alpha_samples\n",
    "        u_hparams, u_hparams_polyak, opt_state = mll_update_fn(\n",
    "            u_hparams, u_hparams_polyak, alpha_map, alpha_samples, None, None, opt_state)\n",
    "        \n",
    "        hparams = jax.tree_map(jax.nn.softplus, u_hparams)\n",
    "        # hparams = hparams._replace(noise_scale=0.03686391)\n",
    "        all_hparams_samples.append(hparams)\n",
    "        \n",
    "        samples_mll.append(mll_exact(train_x, train_y, kernel.kernel_fn, hparams))\n",
    "            # print(exact_mll_loss(train_x, train_y, kernel.kernel_fn, hparams))\n",
    "    # print(exact_mll_loss(train_x, train_y, kernel.kernel_fn, hparams))\n",
    "\n",
    "alpha_diffs = np.array(alpha_diffs)\n"
   ]
  },
  {
   "cell_type": "code",
   "execution_count": 9,
   "metadata": {},
   "outputs": [
    {
     "name": "stderr",
     "output_type": "stream",
     "text": [
      "No artists with labels found to put in legend.  Note that artists whose label start with an underscore are ignored when legend() is called with no argument.\n"
     ]
    },
    {
     "data": {
      "image/png": "[encoded data removed]",
      "text/plain": [
       "<Figure size 1200x400 with 2 Axes>"
      ]
     },
     "metadata": {},
     "output_type": "display_data"
    }
   ],
   "source": [
    "fig, ax = plt.subplots(1, 1, figsize=(8, 8))\n",
    "\n",
    "alpha_diffs = np.array(alpha_diffs)\n",
    "\n",
    "np.save('samples_mll.npy', samples_mll)\n",
    "np.save('exact_mll.npy', exact_mll)\n",
    "# for i in range(10):\n",
    "#     ax[0].plot(alpha_diffs[i * 50000:(i + 1) * 50000], label=f'iter {i}')\n",
    "ax[0].plot(alpha_diffs)\n",
    "ax[0].set_yscale('log')\n",
    "ax[0].legend()\n",
    "ax[0].set_title(r'$\\|\\bar{\\alpha}(\\theta) - \\bar{\\alpha}^{*}(\\theta)\\|_2$')\n",
    "\n",
    "# ax[1].plot(-1 * np.array(sample_mll[64]), label='64 samples, alpha_map opt')\n",
    "ax[1].plot(-1 * np.array(samples_mll), label='64 samples, alpha_map and alpha_samples opt')\n",
    "ax[1].plot(-1 * np.array(exact_mll), label='exact_mll')\n",
    "\n",
    "plt.legend()\n",
    "plt.show()\n",
    "\n",
    "fig, ax = plt.subplots(1, 3, figsize=(12, 4))\n",
    "\n",
    "alpha_K_diffs = np.array(alpha_K_diffs)\n",
    "grad_norms = np.array(grad_norms)\n",
    "sample_grad_norms = np.array(sample_grad_norms)\n",
    "# for i in range(10):\n",
    "#     ax[0].plot(alpha_diffs[i * 50000:(i + 1) * 50000], label=f'iter {i}')\n",
    "ax[0].plot(grad_norms)\n",
    "ax[0].set_yscale('log')\n",
    "ax[0].legend()\n",
    "ax[0].set_title(r'$\\|\\nabla_{\\alpha} L^{*}(\\alpha}) \\|_2$')\n",
    "\n",
    "ax[2].plot(grad_norms)\n",
    "ax[2].set_yscale('log')\n",
    "ax[2].legend()\n",
    "ax[2].set_title(r'$\\|\\nabla_{\\alpha} L^{*}(\\alpha_i} ) \\|_2$')\n",
    "\n",
    "ax[1].plot(alpha_K_diffs)\n",
    "ax[1].set_yscale('log')\n",
    "ax[1].set_title(r'$\\|\\bar{\\alpha}(\\theta) - \\bar{\\alpha}^{*}(\\theta)\\|_K$')\n",
    "plt.legend()\n",
    "plt.show()\n",
    "# plt.plot(alpha_diffs)"
   ]
  },
  {
   "cell_type": "code",
   "execution_count": null,
   "metadata": {},
   "outputs": [
    {
     "name": "stdout",
     "output_type": "stream",
     "text": [
      "sgd best test RMSE  0.12077166\n",
      "exact best test RMSE  0.124364\n"
     ]
    },
    {
     "data": {
      "image/png": "[encoded data removed]",
      "text/plain": [
       "<Figure size 1200x400 with 3 Axes>"
      ]
     },
     "metadata": {},
     "output_type": "display_data"
    }
   ],
   "source": [
    "noises = []\n",
    "signal_scales = []\n",
    "length_scales = []\n",
    "for hparam in all_hparams:\n",
    "    noises.append(hparam.noise_scale)\n",
    "    signal_scales.append(hparam.kernel_hparams.signal_scale)\n",
    "    length_scales.append(hparam.kernel_hparams.length_scale)\n",
    "    \n",
    "sample_noises = []\n",
    "sample_signal_scales = []\n",
    "sample_length_scales = []\n",
    "for hparam in all_hparams_samples:\n",
    "    sample_noises.append(hparam.noise_scale)\n",
    "    sample_signal_scales.append(hparam.kernel_hparams.signal_scale)\n",
    "    sample_length_scales.append(hparam.kernel_hparams.length_scale)\n",
    "\n",
    "exact_noises = []\n",
    "exact_signal_scales = []\n",
    "exact_length_scales = []\n",
    "for hparam in exact_hparams_all:\n",
    "    exact_noises.append(hparam.noise_scale)\n",
    "    exact_signal_scales.append(hparam.kernel_hparams.signal_scale)\n",
    "    exact_length_scales.append(hparam.kernel_hparams.length_scale)\n",
    "    \n",
    "    \n",
    "sgd_hparams = all_hparams_samples[-1]\n",
    "exact_hparams = exact_hparams_all[-1]\n",
    "\n",
    "K = kernel.kernel_fn(train_x, train_x, sgd_hparams.kernel_hparams)\n",
    "H = K + (sgd_hparams.noise_scale ** 2) * jnp.identity(N)\n",
    "alpha_exact = jsp.linalg.solve(H, train_y, assume_a='pos')\n",
    "y_pred_test_exact = kernel.kernel_fn(test_x, train_x, sgd_hparams.kernel_hparams) @ alpha_exact\n",
    "test_rmse_exact = jnp.sqrt(jnp.mean((y_pred_test_exact - test_y) ** 2))\n",
    "print('sgd best test RMSE ', test_rmse_exact)\n",
    "K = kernel.kernel_fn(train_x, train_x, exact_hparams.kernel_hparams)\n",
    "H = K + (exact_hparams.noise_scale ** 2) * jnp.identity(N)\n",
    "alpha_exact = jsp.linalg.solve(H, train_y, assume_a='pos')\n",
    "y_pred_test_exact = kernel.kernel_fn(test_x, train_x, exact_hparams.kernel_hparams) @ alpha_exact\n",
    "test_rmse_exact = jnp.sqrt(jnp.mean((y_pred_test_exact - test_y) ** 2))\n",
    "print('exact best test RMSE ', test_rmse_exact)\n",
    "# exact_length_scales = np.array(exact_length_scales)\n",
    "# length_scales = np.array(length_scales)\n",
    "\n",
    "# print(exact_length_scales.shape)./\n",
    "fig, ax = plt.subplots(1, 3, figsize=(12, 4))\n",
    "ax[0].plot(noises, label='map')\n",
    "ax[0].plot(exact_noises, label='exact', linestyle='--')\n",
    "ax[0].plot(sample_noises, label='map + samples', linestyle='--')\n",
    "\n",
    "ax[1].plot(signal_scales, label='map')\n",
    "ax[1].plot(exact_signal_scales, label='exact')\n",
    "ax[1].plot(sample_signal_scales, label='map + samples', linestyle='--')\n",
    "\n",
    "ax[2].plot(np.mean(length_scales, axis=1), label='map')\n",
    "ax[2].plot(np.mean(exact_length_scales, axis=1), label='exact')\n",
    "ax[2].plot(np.mean(sample_length_scales, axis=1), label='map + samples', linestyle='--')\n",
    "\n",
    "# print(np.mean(length_scales - exact_length_scales, axis=1))\n",
    "ax[0].set_title('noise_scale')\n",
    "ax[1].set_title('signal_scale')\n",
    "ax[2].set_title('length_scales')\n",
    "\n",
    "ax[0].set_yscale('log')\n",
    "plt.legend()\n",
    "plt.show()"
   ]
  },
  {
   "cell_type": "code",
   "execution_count": null,
   "metadata": {},
   "outputs": [],
   "source": []
  }
 ],
 "metadata": {
  "kernelspec": {
   "display_name": "pnum3",
   "language": "python",
   "name": "python3"
  },
  "language_info": {
   "codemirror_mode": {
    "name": "ipython",
    "version": 3
   },
   "file_extension": ".py",
   "mimetype": "text/x-python",
   "name": "python",
   "nbconvert_exporter": "python",
   "pygments_lexer": "ipython3",
   "version": "3.10.9"
  },
  "orig_nbformat": 4
 },
 "nbformat": 4,
 "nbformat_minor": 2
}
