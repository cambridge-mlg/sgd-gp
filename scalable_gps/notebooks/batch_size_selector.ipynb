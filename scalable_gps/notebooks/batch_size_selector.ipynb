{
 "cells": [
  {
   "cell_type": "code",
   "execution_count": 4,
   "metadata": {},
   "outputs": [
    {
     "name": "stdout",
     "output_type": "stream",
     "text": [
      "The autoreload extension is already loaded. To reload it, use:\n",
      "  %reload_ext autoreload\n",
      "pol dataset, N=15000, d=26\n",
      "train: 13500, test: 1500\n",
      "\n",
      "elevators dataset, N=16599, d=18\n",
      "train: 14940, test: 1659\n",
      "\n",
      "bike dataset, N=17379, d=17\n",
      "train: 15642, test: 1737\n",
      "\n",
      "kin40k dataset, N=40000, d=8\n",
      "train: 36000, test: 4000\n",
      "\n",
      "protein dataset, N=45730, d=9\n",
      "train: 41157, test: 4573\n",
      "\n",
      "keggdirected dataset, N=48827, d=20\n",
      "train: 43945, test: 4882\n",
      "\n",
      "3droad dataset, N=434874, d=3\n",
      "train: 391387, test: 43487\n",
      "\n",
      "song dataset, N=515345, d=90\n",
      "train: 463811, test: 51534\n",
      "\n",
      "buzz dataset, N=583250, d=77\n",
      "train: 524925, test: 58325\n",
      "\n",
      "houseelectric dataset, N=2049280, d=11\n",
      "train: 1844352, test: 204928\n",
      "\n"
     ]
    }
   ],
   "source": [
    "%load_ext autoreload\n",
    "%autoreload 2\n",
    "from scalable_gps.data import get_dataset\n",
    "datasets = ['pol',\n",
    "            'elevators',\n",
    "            'bike',\n",
    "            'kin40k',\n",
    "            'protein',\n",
    "            'keggdirected',\n",
    "            '3droad',\n",
    "            'song',\n",
    "            'buzz',\n",
    "            'houseelectric']\n",
    "for dataset in datasets:\n",
    "    data_train, data_test = get_dataset(dataset, split=0, normalise=True)\n",
    "    print(f\"train: {data_train.N}, test: {data_test.N}\")\n",
    "    print()"
   ]
  },
  {
   "cell_type": "code",
   "execution_count": 2,
   "metadata": {},
   "outputs": [],
   "source": [
    "import jax\n",
    "import jax.numpy as jnp\n",
    "from kernels import Matern32Kernel\n",
    "\n",
    "kernel_config = {\n",
    "    'signal_scale': 1.0,\n",
    "    'length_scale': jnp.array([1])\n",
    "}\n",
    "noise_scale = 1.0\n",
    "\n",
    "kernel = Matern32Kernel(kernel_config=kernel_config)"
   ]
  },
  {
   "cell_type": "code",
   "execution_count": 6,
   "metadata": {},
   "outputs": [
    {
     "name": "stdout",
     "output_type": "stream",
     "text": [
      "Trying batch size = 1844352\n"
     ]
    },
    {
     "name": "stderr",
     "output_type": "stream",
     "text": [
      "  0%|          | 0/10 [03:08<?, ?it/s]\n"
     ]
    },
    {
     "name": "stdout",
     "output_type": "stream",
     "text": [
      "Trying batch size = 922176\n"
     ]
    },
    {
     "name": "stderr",
     "output_type": "stream",
     "text": [
      "  0%|          | 0/10 [03:02<?, ?it/s]\n"
     ]
    },
    {
     "name": "stdout",
     "output_type": "stream",
     "text": [
      "Trying batch size = 461088\n"
     ]
    },
    {
     "name": "stderr",
     "output_type": "stream",
     "text": [
      "  0%|          | 0/10 [02:57<?, ?it/s]\n"
     ]
    },
    {
     "name": "stdout",
     "output_type": "stream",
     "text": [
      "Trying batch size = 230544\n"
     ]
    },
    {
     "name": "stderr",
     "output_type": "stream",
     "text": [
      "  0%|          | 0/10 [02:54<?, ?it/s]\n"
     ]
    },
    {
     "name": "stdout",
     "output_type": "stream",
     "text": [
      "Trying batch size = 115272\n"
     ]
    },
    {
     "name": "stderr",
     "output_type": "stream",
     "text": [
      "  0%|          | 0/10 [02:51<?, ?it/s]\n"
     ]
    },
    {
     "name": "stdout",
     "output_type": "stream",
     "text": [
      "Trying batch size = 57636\n"
     ]
    },
    {
     "name": "stderr",
     "output_type": "stream",
     "text": [
      "  0%|          | 0/10 [02:50<?, ?it/s]\n"
     ]
    },
    {
     "name": "stdout",
     "output_type": "stream",
     "text": [
      "Trying batch size = 28818\n"
     ]
    },
    {
     "name": "stderr",
     "output_type": "stream",
     "text": [
      "  0%|          | 0/10 [02:49<?, ?it/s]\n"
     ]
    },
    {
     "name": "stdout",
     "output_type": "stream",
     "text": [
      "Trying batch size = 14409\n"
     ]
    },
    {
     "name": "stderr",
     "output_type": "stream",
     "text": [
      "  0%|          | 0/10 [02:47<?, ?it/s]\n"
     ]
    },
    {
     "name": "stdout",
     "output_type": "stream",
     "text": [
      "Trying batch size = 7204\n"
     ]
    },
    {
     "name": "stderr",
     "output_type": "stream",
     "text": [
      "  0%|          | 0/10 [02:46<?, ?it/s]\n"
     ]
    },
    {
     "name": "stdout",
     "output_type": "stream",
     "text": [
      "Trying batch size = 3602\n"
     ]
    },
    {
     "name": "stderr",
     "output_type": "stream",
     "text": [
      "  0%|          | 0/10 [02:46<?, ?it/s]\n"
     ]
    },
    {
     "name": "stdout",
     "output_type": "stream",
     "text": [
      "Trying batch size = 1801\n"
     ]
    },
    {
     "name": "stderr",
     "output_type": "stream",
     "text": [
      "100%|██████████| 10/10 [03:04<00:00, 18.40s/it]\n"
     ]
    }
   ],
   "source": [
    "\n",
    "from models import SGDGPModel\n",
    "import ml_collections\n",
    "\n",
    "config = ml_collections.ConfigDict()\n",
    "config.train_config = ml_collections.ConfigDict()\n",
    "\n",
    "config.train_config.learning_rate = 1e-1\n",
    "config.train_config.lr_schedule_name = None\n",
    "config.train_config.lr_schedule_config = None\n",
    "config.train_config.momentum = 0.9\n",
    "config.train_config.polyak = 1e-3\n",
    "config.train_config.iterations = 10\n",
    "config.train_config.eval_every = 5\n",
    "config.train_config.n_features_optim = 100\n",
    "config.train_config.recompute_features = True\n",
    "config.train_config.iterative_idx = True\n",
    "config.train_config.time_budget_in_seconds = None\n",
    "config.train_config.eval_every_in_seconds = None\n",
    "\n",
    "optim_key = jax.random.PRNGKey(123)\n",
    "\n",
    "sgd_gp = SGDGPModel(noise_scale=noise_scale, kernel=kernel)\n",
    "\n",
    "\n",
    "config.train_config.batch_size = data_train.N\n",
    "success = False\n",
    "while not success:\n",
    "    try:\n",
    "        print(f\"Trying batch size = {config.train_config.batch_size}\")\n",
    "        alpha, info = sgd_gp.compute_representer_weights(\n",
    "            key=optim_key,\n",
    "            train_ds=data_train,\n",
    "            test_ds=data_test,\n",
    "            config=config.train_config,\n",
    "            metrics_list=['loss'],\n",
    "            exact_metrics=None\n",
    "        )\n",
    "        success = True\n",
    "    except Exception as e:\n",
    "        config.train_config.batch_size = int(config.train_config.batch_size / 2)"
   ]
  },
  {
   "cell_type": "code",
   "execution_count": null,
   "metadata": {},
   "outputs": [],
   "source": []
  }
 ],
 "metadata": {
  "kernelspec": {
   "display_name": "jax",
   "language": "python",
   "name": "python3"
  },
  "language_info": {
   "codemirror_mode": {
    "name": "ipython",
    "version": 3
   },
   "file_extension": ".py",
   "mimetype": "text/x-python",
   "name": "python",
   "nbconvert_exporter": "python",
   "pygments_lexer": "ipython3",
   "version": "3.10.11"
  },
  "orig_nbformat": 4
 },
 "nbformat": 4,
 "nbformat_minor": 2
}
