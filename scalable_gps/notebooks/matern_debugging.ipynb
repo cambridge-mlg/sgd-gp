{
 "cells": [
  {
   "cell_type": "code",
   "execution_count": 2,
   "metadata": {},
   "outputs": [
    {
     "name": "stdout",
     "output_type": "stream",
     "text": [
      "The autoreload extension is already loaded. To reload it, use:\n",
      "  %reload_ext autoreload\n"
     ]
    }
   ],
   "source": [
    "%load_ext autoreload\n",
    "%autoreload 2\n",
    "import scalable_gps\n",
    "from scalable_gps.kernels import Matern32Kernel\n",
    "\n",
    "import jax.numpy as jnp\n",
    "import gpytorch as gpt\n",
    "import numpy as np\n",
    "import torch\n",
    "import gpflux"
   ]
  },
  {
   "cell_type": "code",
   "execution_count": 15,
   "metadata": {},
   "outputs": [
    {
     "name": "stdout",
     "output_type": "stream",
     "text": [
      "Gpytorch hparams :  None\n",
      "torch.Size([10, 10])\n",
      "(10, 10)\n",
      "6.8177415e-06\n",
      "0.0097866105\n"
     ]
    }
   ],
   "source": [
    "import jax.random as jr\n",
    "\n",
    "# kernel_gpt = gpt.kernels.MaternKernel(nu=1.5)\n",
    "kernel_gpt = gpt.kernels.ScaleKernel(gpt.kernels.MaternKernel(nu=1.5))\n",
    "\n",
    "\n",
    "data = jr.normal(key=jr.PRNGKey(0), shape=(10, 1))\n",
    "\n",
    "data_torch = torch.from_numpy(np.array(data)).float()\n",
    "data_jax = jnp.array(data)\n",
    "\n",
    "covar_gpt = kernel_gpt(data_torch, data_torch)\n",
    "\n",
    "print('Gpytorch hparams : ', kernel_gpt.lengthscale)\n",
    "# prnt(kernel_gpt.outputscale)\n",
    "kernel_jax = Matern32Kernel(kernel_config={\"signal_scale\": np.sqrt(np.log(2)), \"length_scale\": np.log(2)})\n",
    "\n",
    "covar = kernel_jax.K(data_jax, data_jax)\n",
    "print(covar_gpt.shape)\n",
    "print(covar.shape)\n",
    "\n",
    "# print(np.linalg.norm(covar_gpt.numpy() - covar))\n",
    "\n",
    "M = 500000\n",
    "\n",
    "rff = kernel_jax.Phi(key=jr.PRNGKey(0), n_features=M, x=data_jax, recompute=True)\n",
    "\n",
    "covar_rff = rff @ rff.T\n",
    "print(np.linalg.norm(covar_gpt.numpy() - covar))\n",
    "\n",
    "print(np.linalg.norm(covar_rff - covar))\n"
   ]
  },
  {
   "cell_type": "code",
   "execution_count": 14,
   "metadata": {},
   "outputs": [
    {
     "ename": "TypeError",
     "evalue": "Exception encountered when calling layer \"random_fourier_features_cosine_10\" \"                 f\"(type RandomFourierFeaturesCosine).\n\n`x` and `y` must have the same dtype, got tf.float32 != tf.float64.\n\nCall arguments received by layer \"random_fourier_features_cosine_10\" \"                 f\"(type RandomFourierFeaturesCosine):\n  • inputs=tf.Tensor(shape=(10, 1), dtype=float32)",
     "output_type": "error",
     "traceback": [
      "\u001b[0;31m---------------------------------------------------------------------------\u001b[0m",
      "\u001b[0;31mTypeError\u001b[0m                                 Traceback (most recent call last)",
      "Cell \u001b[0;32mIn[14], line 18\u001b[0m\n\u001b[1;32m     13\u001b[0m feature_coefficients \u001b[39m=\u001b[39m tf\u001b[39m.\u001b[39mones((M, \u001b[39m1\u001b[39m), dtype\u001b[39m=\u001b[39mtf\u001b[39m.\u001b[39mfloat32)\n\u001b[1;32m     14\u001b[0m kernel \u001b[39m=\u001b[39m KernelWithFeatureDecomposition(\n\u001b[1;32m     15\u001b[0m     kernel\u001b[39m=\u001b[39m\u001b[39mNone\u001b[39;00m, feature_functions\u001b[39m=\u001b[39mfeature_functions, feature_coefficients\u001b[39m=\u001b[39mfeature_coefficients\n\u001b[1;32m     16\u001b[0m )\n\u001b[0;32m---> 18\u001b[0m \u001b[39mprint\u001b[39m(kernel(tf\u001b[39m.\u001b[39;49mconvert_to_tensor(data_jax, dtype\u001b[39m=\u001b[39;49mtf\u001b[39m.\u001b[39;49mfloat32), tf\u001b[39m.\u001b[39;49mconvert_to_tensor(data_jax, dtype\u001b[39m=\u001b[39;49mtf\u001b[39m.\u001b[39;49mfloat32)))\n",
      "File \u001b[0;32m~/.local/lib/python3.8/site-packages/check_shapes/integration/tf.py:76\u001b[0m, in \u001b[0;36minstall_tf_integration.<locals>.TfWrapperPostProcessor.on_wrap.<locals>.wrapped_method\u001b[0;34m(self, *args, **kwargs)\u001b[0m\n\u001b[1;32m     75\u001b[0m \u001b[39mdef\u001b[39;00m \u001b[39mwrapped_method\u001b[39m(\u001b[39mself\u001b[39m: Any, \u001b[39m*\u001b[39margs: Any, \u001b[39m*\u001b[39m\u001b[39m*\u001b[39mkwargs: Any) \u001b[39m-\u001b[39m\u001b[39m>\u001b[39m Any:\n\u001b[0;32m---> 76\u001b[0m     \u001b[39mreturn\u001b[39;00m wrapped_function(\u001b[39mself\u001b[39;49m, \u001b[39m*\u001b[39;49margs, \u001b[39m*\u001b[39;49m\u001b[39m*\u001b[39;49mkwargs)\n",
      "File \u001b[0;32m~/.local/lib/python3.8/site-packages/check_shapes/decorator.py:185\u001b[0m, in \u001b[0;36mcheck_shapes.<locals>._check_shapes.<locals>.wrapped_function\u001b[0;34m(*args, **kwargs)\u001b[0m\n\u001b[1;32m    182\u001b[0m _check_specs(pre_specs)\n\u001b[1;32m    184\u001b[0m \u001b[39mwith\u001b[39;00m set_shape_checker(checker):\n\u001b[0;32m--> 185\u001b[0m     result \u001b[39m=\u001b[39m func(\u001b[39m*\u001b[39;49margs, \u001b[39m*\u001b[39;49m\u001b[39m*\u001b[39;49mkwargs)\n\u001b[1;32m    186\u001b[0m arg_map[RESULT_TOKEN] \u001b[39m=\u001b[39m result\n\u001b[1;32m    188\u001b[0m _check_specs(post_specs)\n",
      "File \u001b[0;32m~/.local/lib/python3.8/site-packages/gpflow/kernels/base.py:214\u001b[0m, in \u001b[0;36mKernel.__call__\u001b[0;34m(self, X, X2, full_cov, presliced)\u001b[0m\n\u001b[1;32m    211\u001b[0m     \u001b[39mreturn\u001b[39;00m \u001b[39mself\u001b[39m\u001b[39m.\u001b[39mK_diag(X)\n\u001b[1;32m    213\u001b[0m \u001b[39melse\u001b[39;00m:\n\u001b[0;32m--> 214\u001b[0m     \u001b[39mreturn\u001b[39;00m \u001b[39mself\u001b[39;49m\u001b[39m.\u001b[39;49mK(X, X2)\n",
      "File \u001b[0;32m~/.local/lib/python3.8/site-packages/gpflux/sampling/kernel_with_feature_decomposition.py:174\u001b[0m, in \u001b[0;36mKernelWithFeatureDecomposition.K\u001b[0;34m(self, X, X2)\u001b[0m\n\u001b[1;32m    173\u001b[0m \u001b[39mdef\u001b[39;00m \u001b[39mK\u001b[39m(\u001b[39mself\u001b[39m, X: TensorType, X2: Optional[TensorType] \u001b[39m=\u001b[39m \u001b[39mNone\u001b[39;00m) \u001b[39m-\u001b[39m\u001b[39m>\u001b[39m tf\u001b[39m.\u001b[39mTensor:\n\u001b[0;32m--> 174\u001b[0m     \u001b[39mreturn\u001b[39;00m \u001b[39mself\u001b[39;49m\u001b[39m.\u001b[39;49m_kernel\u001b[39m.\u001b[39;49mK(X, X2)\n",
      "File \u001b[0;32m~/.local/lib/python3.8/site-packages/gpflux/sampling/kernel_with_feature_decomposition.py:69\u001b[0m, in \u001b[0;36m_ApproximateKernel.K\u001b[0;34m(self, X, X2)\u001b[0m\n\u001b[1;32m     67\u001b[0m \u001b[39mdef\u001b[39;00m \u001b[39mK\u001b[39m(\u001b[39mself\u001b[39m, X: TensorType, X2: Optional[TensorType] \u001b[39m=\u001b[39m \u001b[39mNone\u001b[39;00m) \u001b[39m-\u001b[39m\u001b[39m>\u001b[39m tf\u001b[39m.\u001b[39mTensor:\n\u001b[1;32m     68\u001b[0m \u001b[39m    \u001b[39m\u001b[39m\"\"\"Approximate the true kernel by an inner product between feature functions.\"\"\"\u001b[39;00m\n\u001b[0;32m---> 69\u001b[0m     phi \u001b[39m=\u001b[39m \u001b[39mself\u001b[39;49m\u001b[39m.\u001b[39;49m_feature_functions(X)  \u001b[39m# [N, L]\u001b[39;00m\n\u001b[1;32m     70\u001b[0m     \u001b[39mif\u001b[39;00m X2 \u001b[39mis\u001b[39;00m \u001b[39mNone\u001b[39;00m:\n\u001b[1;32m     71\u001b[0m         phi2 \u001b[39m=\u001b[39m phi\n",
      "File \u001b[0;32m~/.local/lib/python3.8/site-packages/keras/utils/traceback_utils.py:70\u001b[0m, in \u001b[0;36mfilter_traceback.<locals>.error_handler\u001b[0;34m(*args, **kwargs)\u001b[0m\n\u001b[1;32m     67\u001b[0m     filtered_tb \u001b[39m=\u001b[39m _process_traceback_frames(e\u001b[39m.\u001b[39m__traceback__)\n\u001b[1;32m     68\u001b[0m     \u001b[39m# To get the full stack trace, call:\u001b[39;00m\n\u001b[1;32m     69\u001b[0m     \u001b[39m# `tf.debugging.disable_traceback_filtering()`\u001b[39;00m\n\u001b[0;32m---> 70\u001b[0m     \u001b[39mraise\u001b[39;00m e\u001b[39m.\u001b[39mwith_traceback(filtered_tb) \u001b[39mfrom\u001b[39;00m \u001b[39mNone\u001b[39m\n\u001b[1;32m     71\u001b[0m \u001b[39mfinally\u001b[39;00m:\n\u001b[1;32m     72\u001b[0m     \u001b[39mdel\u001b[39;00m filtered_tb\n",
      "File \u001b[0;32m~/.local/lib/python3.8/site-packages/gpflux/layers/basis_functions/fourier_features/base.py:70\u001b[0m, in \u001b[0;36mFourierFeaturesBase.call\u001b[0;34m(self, inputs)\u001b[0m\n\u001b[1;32m     68\u001b[0m     X \u001b[39m=\u001b[39m tf\u001b[39m.\u001b[39mstack(X, \u001b[39m0\u001b[39m)  \u001b[39m# [1, N, D] or [P, N, D]\u001b[39;00m\n\u001b[1;32m     69\u001b[0m \u001b[39melse\u001b[39;00m:\n\u001b[0;32m---> 70\u001b[0m     X \u001b[39m=\u001b[39m tf\u001b[39m.\u001b[39;49mdivide(inputs, \u001b[39mself\u001b[39;49m\u001b[39m.\u001b[39;49mkernel\u001b[39m.\u001b[39;49mlengthscales)  \u001b[39m# [N, D]\u001b[39;00m\n\u001b[1;32m     71\u001b[0m const \u001b[39m=\u001b[39m \u001b[39mself\u001b[39m\u001b[39m.\u001b[39m_compute_constant()  \u001b[39m# [] or [P, 1, 1]\u001b[39;00m\n\u001b[1;32m     72\u001b[0m bases \u001b[39m=\u001b[39m \u001b[39mself\u001b[39m\u001b[39m.\u001b[39m_compute_bases(X)  \u001b[39m# [N, M] or [P, N, M]\u001b[39;00m\n",
      "\u001b[0;31mTypeError\u001b[0m: Exception encountered when calling layer \"random_fourier_features_cosine_10\" \"                 f\"(type RandomFourierFeaturesCosine).\n\n`x` and `y` must have the same dtype, got tf.float32 != tf.float64.\n\nCall arguments received by layer \"random_fourier_features_cosine_10\" \"                 f\"(type RandomFourierFeaturesCosine):\n  • inputs=tf.Tensor(shape=(10, 1), dtype=float32)"
     ]
    }
   ],
   "source": [
    "from gpflux.layers.basis_functions.fourier_features import RandomFourierFeaturesCosine\n",
    "from gpflux.sampling.kernel_with_feature_decomposition import KernelWithFeatureDecomposition\n",
    "from gpflow.kernels import RBF, Matern32\n",
    "import tensorflow as tf\n",
    "\n",
    "M = 1000\n",
    "feature_functions = RandomFourierFeaturesCosine(\n",
    "    kernel=Matern32(lengthscales=1.),\n",
    "    n_components=M,\n",
    "    dtype=tf.float32,\n",
    ")\n",
    "\n",
    "feature_coefficients = tf.ones((M, 1), dtype=tf.float32)\n",
    "kernel = KernelWithFeatureDecomposition(\n",
    "    kernel=None, feature_functions=feature_functions, feature_coefficients=feature_coefficients\n",
    ")\n",
    "\n",
    "print(kernel(tf.convert_to_tensor(data_jax, dtype=tf.float32), tf.convert_to_tensor(data_jax, dtype=tf.float32)))\n"
   ]
  },
  {
   "cell_type": "code",
   "execution_count": null,
   "metadata": {},
   "outputs": [],
   "source": []
  }
 ],
 "metadata": {
  "kernelspec": {
   "display_name": "Python 3",
   "language": "python",
   "name": "python3"
  },
  "language_info": {
   "codemirror_mode": {
    "name": "ipython",
    "version": 3
   },
   "file_extension": ".py",
   "mimetype": "text/x-python",
   "name": "python",
   "nbconvert_exporter": "python",
   "pygments_lexer": "ipython3",
   "version": "3.8.10"
  },
  "orig_nbformat": 4,
  "vscode": {
   "interpreter": {
    "hash": "31f2aee4e71d21fbe5cf8b01ff0e069b9275f58929596ceb00d14d90e3e16cd6"
   }
  }
 },
 "nbformat": 4,
 "nbformat_minor": 2
}
