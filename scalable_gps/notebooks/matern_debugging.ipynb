{
 "cells": [
  {
   "cell_type": "code",
   "execution_count": 7,
   "metadata": {},
   "outputs": [
    {
     "name": "stdout",
     "output_type": "stream",
     "text": [
      "The autoreload extension is already loaded. To reload it, use:\n",
      "  %reload_ext autoreload\n"
     ]
    }
   ],
   "source": [
    "%load_ext autoreload\n",
    "%autoreload 2\n",
    "import scalable_gps\n",
    "from scalable_gps.kernels import Matern32Kernel\n",
    "\n",
    "import jax.numpy as jnp\n",
    "import gpytorch as gpt\n",
    "import numpy as np\n",
    "import torch"
   ]
  },
  {
   "cell_type": "code",
   "execution_count": 10,
   "metadata": {},
   "outputs": [
    {
     "ename": "ValueError",
     "evalue": "Required hyperparameter 'signal_scale' must be present in config dict",
     "output_type": "error",
     "traceback": [
      "\u001b[0;31m---------------------------------------------------------------------------\u001b[0m",
      "\u001b[0;31mValueError\u001b[0m                                Traceback (most recent call last)",
      "Cell \u001b[0;32mIn[10], line 12\u001b[0m\n\u001b[1;32m      8\u001b[0m covar_gpt \u001b[39m=\u001b[39m kernel_gpt(data_torch, data_torch)\n\u001b[1;32m     10\u001b[0m kernel_jax \u001b[39m=\u001b[39m Matern32Kernel()\n\u001b[0;32m---> 12\u001b[0m covar \u001b[39m=\u001b[39m kernel_jax\u001b[39m.\u001b[39;49mK(data_jax, data_jax)\n\u001b[1;32m     13\u001b[0m \u001b[39mprint\u001b[39m(covar_gpt\u001b[39m.\u001b[39mshape)\n\u001b[1;32m     14\u001b[0m \u001b[39mprint\u001b[39m(covar\u001b[39m.\u001b[39mshape)\n",
      "    \u001b[0;31m[... skipping hidden 11 frame]\u001b[0m\n",
      "File \u001b[0;32m~/scalable-gaussian-processes/scalable_gps/kernels.py:80\u001b[0m, in \u001b[0;36mMatern32Kernel.K\u001b[0;34m(self, x, y)\u001b[0m\n\u001b[1;32m     77\u001b[0m \u001b[39m@partial\u001b[39m(jax\u001b[39m.\u001b[39mjit, static_argnums\u001b[39m=\u001b[39m(\u001b[39m0\u001b[39m,))\n\u001b[1;32m     78\u001b[0m \u001b[39mdef\u001b[39;00m \u001b[39mK\u001b[39m(\u001b[39mself\u001b[39m, x: Array, y: Array):\n\u001b[0;32m---> 80\u001b[0m     \u001b[39mself\u001b[39;49m\u001b[39m.\u001b[39;49mcheck_required_hparams_in_config(\n\u001b[1;32m     81\u001b[0m         [\u001b[39m\"\u001b[39;49m\u001b[39msignal_scale\u001b[39;49m\u001b[39m\"\u001b[39;49m, \u001b[39m\"\u001b[39;49m\u001b[39mlength_scale\u001b[39;49m\u001b[39m\"\u001b[39;49m], \u001b[39mself\u001b[39;49m\u001b[39m.\u001b[39;49mkernel_config\n\u001b[1;32m     82\u001b[0m     )\n\u001b[1;32m     84\u001b[0m     s \u001b[39m=\u001b[39m \u001b[39mself\u001b[39m\u001b[39m.\u001b[39mkernel_config[\u001b[39m\"\u001b[39m\u001b[39msignal_scale\u001b[39m\u001b[39m\"\u001b[39m]\n\u001b[1;32m     85\u001b[0m     l \u001b[39m=\u001b[39m \u001b[39mself\u001b[39m\u001b[39m.\u001b[39mkernel_config[\u001b[39m\"\u001b[39m\u001b[39mlength_scale\u001b[39m\u001b[39m\"\u001b[39m]\n",
      "File \u001b[0;32m~/scalable-gaussian-processes/scalable_gps/kernels.py:23\u001b[0m, in \u001b[0;36mKernel.check_required_hparams_in_config\u001b[0;34m(self, required_hparams, config_dict)\u001b[0m\n\u001b[1;32m     21\u001b[0m \u001b[39mfor\u001b[39;00m hparam \u001b[39min\u001b[39;00m required_hparams:\n\u001b[1;32m     22\u001b[0m     \u001b[39mif\u001b[39;00m hparam \u001b[39mnot\u001b[39;00m \u001b[39min\u001b[39;00m config_dict:\n\u001b[0;32m---> 23\u001b[0m         \u001b[39mraise\u001b[39;00m \u001b[39mValueError\u001b[39;00m(\n\u001b[1;32m     24\u001b[0m             \u001b[39mf\u001b[39m\u001b[39m\"\u001b[39m\u001b[39mRequired hyperparameter \u001b[39m\u001b[39m'\u001b[39m\u001b[39m{\u001b[39;00mhparam\u001b[39m}\u001b[39;00m\u001b[39m'\u001b[39m\u001b[39m must be present in config dict\u001b[39m\u001b[39m\"\u001b[39m\n\u001b[1;32m     25\u001b[0m         )\n",
      "\u001b[0;31mValueError\u001b[0m: Required hyperparameter 'signal_scale' must be present in config dict"
     ]
    }
   ],
   "source": [
    "kernel_gpt = gpt.kernels.MaternKernel(nu=1.5)\n",
    "\n",
    "data = np.random.randn(10, 1)\n",
    "\n",
    "data_torch = torch.from_numpy(data).float()\n",
    "data_jax = jnp.array(data)\n",
    "\n",
    "covar_gpt = kernel_gpt(data_torch, data_torch)\n",
    "\n",
    "kernel_jax = Matern32Kernel(signal_scale=1., length_scale=1.)\n",
    "\n",
    "covar = kernel_jax.K(data_jax, data_jax)\n",
    "print(covar_gpt.shape)\n",
    "print(covar.shape)\n"
   ]
  },
  {
   "cell_type": "code",
   "execution_count": null,
   "metadata": {},
   "outputs": [],
   "source": []
  }
 ],
 "metadata": {
  "kernelspec": {
   "display_name": "Python 3",
   "language": "python",
   "name": "python3"
  },
  "language_info": {
   "codemirror_mode": {
    "name": "ipython",
    "version": 3
   },
   "file_extension": ".py",
   "mimetype": "text/x-python",
   "name": "python",
   "nbconvert_exporter": "python",
   "pygments_lexer": "ipython3",
   "version": "3.8.10"
  },
  "orig_nbformat": 4,
  "vscode": {
   "interpreter": {
    "hash": "31f2aee4e71d21fbe5cf8b01ff0e069b9275f58929596ceb00d14d90e3e16cd6"
   }
  }
 },
 "nbformat": 4,
 "nbformat_minor": 2
}
