{
 "cells": [
  {
   "cell_type": "code",
   "execution_count": 2,
   "metadata": {},
   "outputs": [
    {
     "ename": "ImportError",
     "evalue": "cannot import name 'get_gpu_or_cpu_device' from 'utils' (/home/sp2058/rff_diffusions/rff_diffusions/utils.py)",
     "output_type": "error",
     "traceback": [
      "\u001b[0;31m---------------------------------------------------------------------------\u001b[0m",
      "\u001b[0;31mImportError\u001b[0m                               Traceback (most recent call last)",
      "Cell \u001b[0;32mIn[2], line 1\u001b[0m\n\u001b[0;32m----> 1\u001b[0m \u001b[39mfrom\u001b[39;00m \u001b[39mlinalg_utils\u001b[39;00m \u001b[39mimport\u001b[39;00m pivoted_cholesky\n\u001b[1;32m      2\u001b[0m \u001b[39mimport\u001b[39;00m \u001b[39mtensorflow_probability\u001b[39;00m \u001b[39mas\u001b[39;00m \u001b[39mtfp\u001b[39;00m\n\u001b[1;32m      3\u001b[0m \u001b[39mimport\u001b[39;00m \u001b[39mjax\u001b[39;00m\u001b[39m.\u001b[39;00m\u001b[39mnumpy\u001b[39;00m \u001b[39mas\u001b[39;00m \u001b[39mjnp\u001b[39;00m\n",
      "File \u001b[0;32m~/scalable-gaussian-processes/scalable_gps/linalg_utils.py:7\u001b[0m\n\u001b[1;32m      5\u001b[0m \u001b[39mimport\u001b[39;00m \u001b[39mjax\u001b[39;00m\u001b[39m.\u001b[39;00m\u001b[39mnumpy\u001b[39;00m \u001b[39mas\u001b[39;00m \u001b[39mjnp\u001b[39;00m\n\u001b[1;32m      6\u001b[0m \u001b[39mfrom\u001b[39;00m \u001b[39mchex\u001b[39;00m \u001b[39mimport\u001b[39;00m Array\n\u001b[0;32m----> 7\u001b[0m \u001b[39mfrom\u001b[39;00m \u001b[39mutils\u001b[39;00m \u001b[39mimport\u001b[39;00m get_gpu_or_cpu_device\n\u001b[1;32m      9\u001b[0m Kernel_fn \u001b[39m=\u001b[39m Callable[[Array, Array], Array]\n\u001b[1;32m     12\u001b[0m \u001b[39m@partial\u001b[39m(jax\u001b[39m.\u001b[39mjit, device\u001b[39m=\u001b[39mget_gpu_or_cpu_device())\n\u001b[1;32m     13\u001b[0m \u001b[39mdef\u001b[39;00m \u001b[39msolve_K_inv_v\u001b[39m(K: Array, v: Array, noise_scale: \u001b[39mfloat\u001b[39m):\n",
      "\u001b[0;31mImportError\u001b[0m: cannot import name 'get_gpu_or_cpu_device' from 'utils' (/home/sp2058/rff_diffusions/rff_diffusions/utils.py)"
     ]
    }
   ],
   "source": [
    "\n",
    "from linalg_utils import pivoted_cholesky\n",
    "import tensorflow_probability as tfp\n",
    "import jax.numpy as jnp\n",
    "from kernels import RBFKernel\n",
    "\n",
    "kernel = RBFKernel({'length_scale': 1.0, 'signal_scale': 1.0, 'noise_scale': 1.0})\n",
    "x = jnp.linspace(0, 1, 100)\n",
    "\n",
    "A = kernel.kernel_fn(x, x) + 1e-6 * jnp.eye(100)\n",
    "\n",
    "Lk = jnp.array(tfp.math.pivoted_cholesky(np.array(A), 10))\n",
    "\n",
    "print(Lk)\n"
   ]
  },
  {
   "cell_type": "code",
   "execution_count": null,
   "metadata": {},
   "outputs": [],
   "source": []
  }
 ],
 "metadata": {
  "kernelspec": {
   "display_name": "pnum3",
   "language": "python",
   "name": "python3"
  },
  "language_info": {
   "codemirror_mode": {
    "name": "ipython",
    "version": 3
   },
   "file_extension": ".py",
   "mimetype": "text/x-python",
   "name": "python",
   "nbconvert_exporter": "python",
   "pygments_lexer": "ipython3",
   "version": "3.10.9"
  },
  "orig_nbformat": 4
 },
 "nbformat": 4,
 "nbformat_minor": 2
}
